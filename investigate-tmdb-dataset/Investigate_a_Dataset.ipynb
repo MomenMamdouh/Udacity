{
 "cells": [
  {
   "cell_type": "markdown",
   "metadata": {},
   "source": [
    "# Project: Investigate a Dataset - [tmdb-movies]\n",
    "\n",
    "## Table of Contents\n",
    "<ul>\n",
    "<li><a href=\"#intro\">Introduction</a></li>\n",
    "<li><a href=\"#wrangling\">Data Wrangling</a></li>\n",
    "<li><a href=\"#eda\">Exploratory Data Analysis</a></li>\n",
    "<li><a href='#extra'>Extra dataset mining</a></li>\n",
    "<li><a href=\"#conclusions\">Conclusions</a></li>\n",
    "</ul>"
   ]
  },
  {
   "cell_type": "markdown",
   "metadata": {},
   "source": [
    "<a id='intro'></a>\n",
    "## Introduction\n",
    "\n",
    "### Dataset Description \n",
    "\n",
    ">This data set contains information about 10,000 movies collected from The Movie Database (TMDb), including user ratings and revenue. The dataset has the following columns:\n",
    "\n",
    ">**id:** Identification No.&emsp;&emsp;&emsp;&emsp;&emsp;&emsp;&emsp;&ensp;&ensp;&nbsp;**imdb_id:** IMDB Identification No.&emsp;&emsp;&emsp;&emsp;&emsp;&emsp;&emsp;&ensp;&ensp;&nbsp;**popularity:** How Popular is the Movie<br>**budget:** Movies Cost&emsp;&emsp;&emsp;&emsp;&emsp;&emsp;&emsp;&ensp;&nbsp;**revenue:** Movie Income&emsp;&emsp;&emsp;&emsp;&emsp;&emsp;&emsp;&ensp;&nbsp;&emsp;&emsp;&ensp;&emsp;&ensp;&nbsp;**original_title:** Movie Name<br>**cast:** The Actors&emsp;&emsp;&emsp;&emsp;&emsp;&emsp;&emsp;&emsp;&emsp;&nbsp;&nbsp;&nbsp;**homepage:** Movie Website&emsp;&emsp;&emsp;&emsp;&emsp;&emsp;&emsp;&emsp;&emsp;&nbsp;&nbsp;&nbsp;&emsp;**director:** Director Name<br>**tagline:** Slogan&emsp;&emsp;&emsp;&emsp;&emsp;&emsp;&emsp;&emsp;&emsp;&emsp;&nbsp;**keywords:** Used in searching for movies&emsp;&emsp;&emsp;&emsp;&emsp;**overview:** Description<br>**runtime:** Duration&emsp;&emsp;&emsp;&emsp;&emsp;&emsp;&emsp;&emsp;&ensp;&ensp;&nbsp;**genres:** Categories&emsp;&emsp;&emsp;&emsp;&ensp;&nbsp;&emsp;&emsp;&emsp;&emsp;&emsp;&emsp;&emsp;&emsp;&nbsp;&emsp;**production_companies:** Creators<br>**release_date:** Availablity date&emsp;&emsp;&emsp;&emsp;**vote_count:** No. of Votes&emsp;&emsp;&emsp;&emsp;&emsp;&emsp;&emsp;&emsp;&emsp;&emsp;&emsp;&ensp;**vote_average:** User Rating Average<br>**release_year:** Launching year&emsp;&emsp;&emsp;&ensp;&nbsp;**budget_adj:** Budget in terms of 2010 USD&emsp;&emsp;&emsp;&emsp;**revenue_adj:** Revenue in terms of 2010 USD              \n",
    "\n",
    "### Question(s) for Analysis\n",
    " \n",
    ">1- Which genres are most popular from year to year?<br><br>\n",
    "2- What kinds of properties are associated with movies that have high revenues?"
   ]
  },
  {
   "cell_type": "code",
   "execution_count": 1,
   "metadata": {},
   "outputs": [],
   "source": [
    "import pandas as pd\n",
    "import numpy as np\n",
    "import matplotlib.pyplot as plt\n",
    "%matplotlib inline"
   ]
  },
  {
   "cell_type": "code",
   "execution_count": 2,
   "metadata": {},
   "outputs": [],
   "source": [
    "pd.set_option('max_columns', None)\n",
    "pd.set_option('display.float_format', '{:,.2f}'.format)\n",
    "plt.rcParams['figure.dpi'] = 100\n"
   ]
  },
  {
   "cell_type": "markdown",
   "metadata": {},
   "source": [
    "<a id='wrangling'></a>\n",
    "## Data Wrangling\n",
    "\n",
    "> **Tip**: In this section of the report, you will load in the data, check for cleanliness, and then trim and clean your dataset for analysis. Make sure that you **document your data cleaning steps in mark-down cells precisely and justify your cleaning decisions.**\n",
    "\n",
    "\n",
    "### General Properties\n",
    "> **Tip**: You should _not_ perform too many operations in each cell. Create cells freely to explore your data. One option that you can take with this project is to do a lot of explorations in an initial notebook. These don't have to be organized, but make sure you use enough comments to understand the purpose of each code cell. Then, after you're done with your analysis, create a duplicate notebook where you will trim the excess and organize your steps so that you have a flowing, cohesive report."
   ]
  },
  {
   "cell_type": "code",
   "execution_count": 3,
   "metadata": {},
   "outputs": [
    {
     "data": {
      "text/html": [
       "<div>\n",
       "<style scoped>\n",
       "    .dataframe tbody tr th:only-of-type {\n",
       "        vertical-align: middle;\n",
       "    }\n",
       "\n",
       "    .dataframe tbody tr th {\n",
       "        vertical-align: top;\n",
       "    }\n",
       "\n",
       "    .dataframe thead th {\n",
       "        text-align: right;\n",
       "    }\n",
       "</style>\n",
       "<table border=\"1\" class=\"dataframe\">\n",
       "  <thead>\n",
       "    <tr style=\"text-align: right;\">\n",
       "      <th></th>\n",
       "      <th>id</th>\n",
       "      <th>imdb_id</th>\n",
       "      <th>popularity</th>\n",
       "      <th>budget</th>\n",
       "      <th>revenue</th>\n",
       "      <th>original_title</th>\n",
       "      <th>cast</th>\n",
       "      <th>homepage</th>\n",
       "      <th>director</th>\n",
       "      <th>tagline</th>\n",
       "      <th>keywords</th>\n",
       "      <th>overview</th>\n",
       "      <th>runtime</th>\n",
       "      <th>genres</th>\n",
       "      <th>production_companies</th>\n",
       "      <th>release_date</th>\n",
       "      <th>vote_count</th>\n",
       "      <th>vote_average</th>\n",
       "      <th>release_year</th>\n",
       "      <th>budget_adj</th>\n",
       "      <th>revenue_adj</th>\n",
       "    </tr>\n",
       "  </thead>\n",
       "  <tbody>\n",
       "    <tr>\n",
       "      <th>0</th>\n",
       "      <td>135397</td>\n",
       "      <td>tt0369610</td>\n",
       "      <td>32.99</td>\n",
       "      <td>150000000</td>\n",
       "      <td>1513528810</td>\n",
       "      <td>Jurassic World</td>\n",
       "      <td>Chris Pratt|Bryce Dallas Howard|Irrfan Khan|Vi...</td>\n",
       "      <td>http://www.jurassicworld.com/</td>\n",
       "      <td>Colin Trevorrow</td>\n",
       "      <td>The park is open.</td>\n",
       "      <td>monster|dna|tyrannosaurus rex|velociraptor|island</td>\n",
       "      <td>Twenty-two years after the events of Jurassic ...</td>\n",
       "      <td>124</td>\n",
       "      <td>Action|Adventure|Science Fiction|Thriller</td>\n",
       "      <td>Universal Studios|Amblin Entertainment|Legenda...</td>\n",
       "      <td>6/9/15</td>\n",
       "      <td>5562</td>\n",
       "      <td>6.50</td>\n",
       "      <td>2015</td>\n",
       "      <td>137,999,939.28</td>\n",
       "      <td>1,392,445,892.52</td>\n",
       "    </tr>\n",
       "    <tr>\n",
       "      <th>1</th>\n",
       "      <td>76341</td>\n",
       "      <td>tt1392190</td>\n",
       "      <td>28.42</td>\n",
       "      <td>150000000</td>\n",
       "      <td>378436354</td>\n",
       "      <td>Mad Max: Fury Road</td>\n",
       "      <td>Tom Hardy|Charlize Theron|Hugh Keays-Byrne|Nic...</td>\n",
       "      <td>http://www.madmaxmovie.com/</td>\n",
       "      <td>George Miller</td>\n",
       "      <td>What a Lovely Day.</td>\n",
       "      <td>future|chase|post-apocalyptic|dystopia|australia</td>\n",
       "      <td>An apocalyptic story set in the furthest reach...</td>\n",
       "      <td>120</td>\n",
       "      <td>Action|Adventure|Science Fiction|Thriller</td>\n",
       "      <td>Village Roadshow Pictures|Kennedy Miller Produ...</td>\n",
       "      <td>5/13/15</td>\n",
       "      <td>6185</td>\n",
       "      <td>7.10</td>\n",
       "      <td>2015</td>\n",
       "      <td>137,999,939.28</td>\n",
       "      <td>348,161,292.49</td>\n",
       "    </tr>\n",
       "    <tr>\n",
       "      <th>2</th>\n",
       "      <td>262500</td>\n",
       "      <td>tt2908446</td>\n",
       "      <td>13.11</td>\n",
       "      <td>110000000</td>\n",
       "      <td>295238201</td>\n",
       "      <td>Insurgent</td>\n",
       "      <td>Shailene Woodley|Theo James|Kate Winslet|Ansel...</td>\n",
       "      <td>http://www.thedivergentseries.movie/#insurgent</td>\n",
       "      <td>Robert Schwentke</td>\n",
       "      <td>One Choice Can Destroy You</td>\n",
       "      <td>based on novel|revolution|dystopia|sequel|dyst...</td>\n",
       "      <td>Beatrice Prior must confront her inner demons ...</td>\n",
       "      <td>119</td>\n",
       "      <td>Adventure|Science Fiction|Thriller</td>\n",
       "      <td>Summit Entertainment|Mandeville Films|Red Wago...</td>\n",
       "      <td>3/18/15</td>\n",
       "      <td>2480</td>\n",
       "      <td>6.30</td>\n",
       "      <td>2015</td>\n",
       "      <td>101,199,955.47</td>\n",
       "      <td>271,619,025.41</td>\n",
       "    </tr>\n",
       "  </tbody>\n",
       "</table>\n",
       "</div>"
      ],
      "text/plain": [
       "       id    imdb_id  popularity     budget     revenue      original_title  \\\n",
       "0  135397  tt0369610       32.99  150000000  1513528810      Jurassic World   \n",
       "1   76341  tt1392190       28.42  150000000   378436354  Mad Max: Fury Road   \n",
       "2  262500  tt2908446       13.11  110000000   295238201           Insurgent   \n",
       "\n",
       "                                                cast  \\\n",
       "0  Chris Pratt|Bryce Dallas Howard|Irrfan Khan|Vi...   \n",
       "1  Tom Hardy|Charlize Theron|Hugh Keays-Byrne|Nic...   \n",
       "2  Shailene Woodley|Theo James|Kate Winslet|Ansel...   \n",
       "\n",
       "                                         homepage          director  \\\n",
       "0                   http://www.jurassicworld.com/   Colin Trevorrow   \n",
       "1                     http://www.madmaxmovie.com/     George Miller   \n",
       "2  http://www.thedivergentseries.movie/#insurgent  Robert Schwentke   \n",
       "\n",
       "                      tagline  \\\n",
       "0           The park is open.   \n",
       "1          What a Lovely Day.   \n",
       "2  One Choice Can Destroy You   \n",
       "\n",
       "                                            keywords  \\\n",
       "0  monster|dna|tyrannosaurus rex|velociraptor|island   \n",
       "1   future|chase|post-apocalyptic|dystopia|australia   \n",
       "2  based on novel|revolution|dystopia|sequel|dyst...   \n",
       "\n",
       "                                            overview  runtime  \\\n",
       "0  Twenty-two years after the events of Jurassic ...      124   \n",
       "1  An apocalyptic story set in the furthest reach...      120   \n",
       "2  Beatrice Prior must confront her inner demons ...      119   \n",
       "\n",
       "                                      genres  \\\n",
       "0  Action|Adventure|Science Fiction|Thriller   \n",
       "1  Action|Adventure|Science Fiction|Thriller   \n",
       "2         Adventure|Science Fiction|Thriller   \n",
       "\n",
       "                                production_companies release_date  vote_count  \\\n",
       "0  Universal Studios|Amblin Entertainment|Legenda...       6/9/15        5562   \n",
       "1  Village Roadshow Pictures|Kennedy Miller Produ...      5/13/15        6185   \n",
       "2  Summit Entertainment|Mandeville Films|Red Wago...      3/18/15        2480   \n",
       "\n",
       "   vote_average  release_year     budget_adj      revenue_adj  \n",
       "0          6.50          2015 137,999,939.28 1,392,445,892.52  \n",
       "1          7.10          2015 137,999,939.28   348,161,292.49  \n",
       "2          6.30          2015 101,199,955.47   271,619,025.41  "
      ]
     },
     "execution_count": 3,
     "metadata": {},
     "output_type": "execute_result"
    }
   ],
   "source": [
    "# Load your data and print out a few lines. Perform operations to inspect data\n",
    "#   types and look for instances of missing or possibly errant data.\n",
    "tmdb = pd.read_csv('Database_TMDb_movie_data/tmdb-movies.csv')\n",
    "pd.set_option('max_columns', None)\n",
    "tmdb.head(3)"
   ]
  },
  {
   "cell_type": "markdown",
   "metadata": {},
   "source": [
    "\n",
    "### Data Cleaning\n",
    "> Let's dive into the dataset and explore the data structure and quality<br>\n",
    "#### 1) Explore DataFrame information"
   ]
  },
  {
   "cell_type": "code",
   "execution_count": 4,
   "metadata": {},
   "outputs": [
    {
     "name": "stdout",
     "output_type": "stream",
     "text": [
      "<class 'pandas.core.frame.DataFrame'>\n",
      "RangeIndex: 10866 entries, 0 to 10865\n",
      "Data columns (total 21 columns):\n",
      "id                      10866 non-null int64\n",
      "imdb_id                 10856 non-null object\n",
      "popularity              10866 non-null float64\n",
      "budget                  10866 non-null int64\n",
      "revenue                 10866 non-null int64\n",
      "original_title          10866 non-null object\n",
      "cast                    10790 non-null object\n",
      "homepage                2936 non-null object\n",
      "director                10822 non-null object\n",
      "tagline                 8042 non-null object\n",
      "keywords                9373 non-null object\n",
      "overview                10862 non-null object\n",
      "runtime                 10866 non-null int64\n",
      "genres                  10843 non-null object\n",
      "production_companies    9836 non-null object\n",
      "release_date            10866 non-null object\n",
      "vote_count              10866 non-null int64\n",
      "vote_average            10866 non-null float64\n",
      "release_year            10866 non-null int64\n",
      "budget_adj              10866 non-null float64\n",
      "revenue_adj             10866 non-null float64\n",
      "dtypes: float64(4), int64(6), object(11)\n",
      "memory usage: 1.7+ MB\n"
     ]
    }
   ],
   "source": [
    "tmdb.info()"
   ]
  },
  {
   "cell_type": "markdown",
   "metadata": {},
   "source": [
    "#### 2) Delete Unnecessary Columns:\n"
   ]
  },
  {
   "cell_type": "markdown",
   "metadata": {},
   "source": [
    "><u>Let's try ask some questions related to our dataset to discover the necessary columns and which are not:</u><br>\n",
    "- What is the most profitable genre for production companies?\n",
    "- What is the most favorable genre for the viewers?\n",
    "- Does the name of the director affect the movie popularity and its profit?\n",
    "- Does the higher budjet movies always profitable?\n",
    "- Is the cast an important factor in the popularity and the Box office of the movies?\n",
    "- Is choosing the release month important? does it have an impact on the revenue?\n",
    "<br><br>\n",
    "<u>**Until we discover a new questions related to our dataset the following columns will be treated as follows:**</u> <br><br>\n",
    "- **(id, runtime, imdb_id, original_title, homepage, tagline, keywords, overview )** are removed\n",
    "- **(vote_count)** beside **(popularity)** columns may be useful in dicovering the trending genre with the viewers.\n",
    "- Some qualitative columns are very important for our analysis such as **(genres, cast, and director)** so they are kept."
   ]
  },
  {
   "cell_type": "code",
   "execution_count": 5,
   "metadata": {},
   "outputs": [],
   "source": [
    "# Deleted unnecessary columns \n",
    "tmdb.drop(['id','imdb_id','homepage', 'tagline', 'keywords', \n",
    "           'overview','runtime'], axis=1, inplace=True)\n"
   ]
  },
  {
   "cell_type": "code",
   "execution_count": 6,
   "metadata": {
    "scrolled": true
   },
   "outputs": [
    {
     "data": {
      "text/html": [
       "<div>\n",
       "<style scoped>\n",
       "    .dataframe tbody tr th:only-of-type {\n",
       "        vertical-align: middle;\n",
       "    }\n",
       "\n",
       "    .dataframe tbody tr th {\n",
       "        vertical-align: top;\n",
       "    }\n",
       "\n",
       "    .dataframe thead th {\n",
       "        text-align: right;\n",
       "    }\n",
       "</style>\n",
       "<table border=\"1\" class=\"dataframe\">\n",
       "  <thead>\n",
       "    <tr style=\"text-align: right;\">\n",
       "      <th></th>\n",
       "      <th>popularity</th>\n",
       "      <th>budget</th>\n",
       "      <th>revenue</th>\n",
       "      <th>vote_count</th>\n",
       "      <th>vote_average</th>\n",
       "      <th>release_year</th>\n",
       "      <th>budget_adj</th>\n",
       "      <th>revenue_adj</th>\n",
       "    </tr>\n",
       "  </thead>\n",
       "  <tbody>\n",
       "    <tr>\n",
       "      <th>count</th>\n",
       "      <td>10,866.00</td>\n",
       "      <td>10,866.00</td>\n",
       "      <td>10,866.00</td>\n",
       "      <td>10,866.00</td>\n",
       "      <td>10,866.00</td>\n",
       "      <td>10,866.00</td>\n",
       "      <td>10,866.00</td>\n",
       "      <td>10,866.00</td>\n",
       "    </tr>\n",
       "    <tr>\n",
       "      <th>mean</th>\n",
       "      <td>0.65</td>\n",
       "      <td>14,625,701.09</td>\n",
       "      <td>39,823,319.79</td>\n",
       "      <td>217.39</td>\n",
       "      <td>5.97</td>\n",
       "      <td>2,001.32</td>\n",
       "      <td>17,551,039.82</td>\n",
       "      <td>51,364,363.25</td>\n",
       "    </tr>\n",
       "    <tr>\n",
       "      <th>std</th>\n",
       "      <td>1.00</td>\n",
       "      <td>30,913,213.83</td>\n",
       "      <td>117,003,486.58</td>\n",
       "      <td>575.62</td>\n",
       "      <td>0.94</td>\n",
       "      <td>12.81</td>\n",
       "      <td>34,306,155.72</td>\n",
       "      <td>144,632,485.04</td>\n",
       "    </tr>\n",
       "    <tr>\n",
       "      <th>min</th>\n",
       "      <td>0.00</td>\n",
       "      <td>0.00</td>\n",
       "      <td>0.00</td>\n",
       "      <td>10.00</td>\n",
       "      <td>1.50</td>\n",
       "      <td>1,960.00</td>\n",
       "      <td>0.00</td>\n",
       "      <td>0.00</td>\n",
       "    </tr>\n",
       "    <tr>\n",
       "      <th>25%</th>\n",
       "      <td>0.21</td>\n",
       "      <td>0.00</td>\n",
       "      <td>0.00</td>\n",
       "      <td>17.00</td>\n",
       "      <td>5.40</td>\n",
       "      <td>1,995.00</td>\n",
       "      <td>0.00</td>\n",
       "      <td>0.00</td>\n",
       "    </tr>\n",
       "    <tr>\n",
       "      <th>50%</th>\n",
       "      <td>0.38</td>\n",
       "      <td>0.00</td>\n",
       "      <td>0.00</td>\n",
       "      <td>38.00</td>\n",
       "      <td>6.00</td>\n",
       "      <td>2,006.00</td>\n",
       "      <td>0.00</td>\n",
       "      <td>0.00</td>\n",
       "    </tr>\n",
       "    <tr>\n",
       "      <th>75%</th>\n",
       "      <td>0.71</td>\n",
       "      <td>15,000,000.00</td>\n",
       "      <td>24,000,000.00</td>\n",
       "      <td>145.75</td>\n",
       "      <td>6.60</td>\n",
       "      <td>2,011.00</td>\n",
       "      <td>20,853,251.08</td>\n",
       "      <td>33,697,095.72</td>\n",
       "    </tr>\n",
       "    <tr>\n",
       "      <th>max</th>\n",
       "      <td>32.99</td>\n",
       "      <td>425,000,000.00</td>\n",
       "      <td>2,781,505,847.00</td>\n",
       "      <td>9,767.00</td>\n",
       "      <td>9.20</td>\n",
       "      <td>2,015.00</td>\n",
       "      <td>425,000,000.00</td>\n",
       "      <td>2,827,123,750.41</td>\n",
       "    </tr>\n",
       "  </tbody>\n",
       "</table>\n",
       "</div>"
      ],
      "text/plain": [
       "       popularity         budget          revenue  vote_count  vote_average  \\\n",
       "count   10,866.00      10,866.00        10,866.00   10,866.00     10,866.00   \n",
       "mean         0.65  14,625,701.09    39,823,319.79      217.39          5.97   \n",
       "std          1.00  30,913,213.83   117,003,486.58      575.62          0.94   \n",
       "min          0.00           0.00             0.00       10.00          1.50   \n",
       "25%          0.21           0.00             0.00       17.00          5.40   \n",
       "50%          0.38           0.00             0.00       38.00          6.00   \n",
       "75%          0.71  15,000,000.00    24,000,000.00      145.75          6.60   \n",
       "max         32.99 425,000,000.00 2,781,505,847.00    9,767.00          9.20   \n",
       "\n",
       "       release_year     budget_adj      revenue_adj  \n",
       "count     10,866.00      10,866.00        10,866.00  \n",
       "mean       2,001.32  17,551,039.82    51,364,363.25  \n",
       "std           12.81  34,306,155.72   144,632,485.04  \n",
       "min        1,960.00           0.00             0.00  \n",
       "25%        1,995.00           0.00             0.00  \n",
       "50%        2,006.00           0.00             0.00  \n",
       "75%        2,011.00  20,853,251.08    33,697,095.72  \n",
       "max        2,015.00 425,000,000.00 2,827,123,750.41  "
      ]
     },
     "execution_count": 6,
     "metadata": {},
     "output_type": "execute_result"
    }
   ],
   "source": [
    "tmdb.describe()"
   ]
  },
  {
   "cell_type": "markdown",
   "metadata": {},
   "source": [
    "**3) Now let's check columns for NA values**"
   ]
  },
  {
   "cell_type": "code",
   "execution_count": 7,
   "metadata": {},
   "outputs": [
    {
     "data": {
      "text/plain": [
       "popularity                 0\n",
       "budget                     0\n",
       "revenue                    0\n",
       "original_title             0\n",
       "cast                      76\n",
       "director                  44\n",
       "genres                    23\n",
       "production_companies    1030\n",
       "release_date               0\n",
       "vote_count                 0\n",
       "vote_average               0\n",
       "release_year               0\n",
       "budget_adj                 0\n",
       "revenue_adj                0\n",
       "dtype: int64"
      ]
     },
     "execution_count": 7,
     "metadata": {},
     "output_type": "execute_result"
    }
   ],
   "source": [
    "tmdb.isnull().sum()"
   ]
  },
  {
   "cell_type": "markdown",
   "metadata": {},
   "source": [
    ">As we see above, we have 3 columns with NA, instead of dropping them we can fill them with the word 'Unavailable'"
   ]
  },
  {
   "cell_type": "code",
   "execution_count": 8,
   "metadata": {},
   "outputs": [],
   "source": [
    "tmdb.fillna({'director': 'Unavailable','genres': 'Unavailable',\n",
    "                    'cast': 'Unavailable','production_companies':'Unavailable'}, inplace=True)\n"
   ]
  },
  {
   "cell_type": "markdown",
   "metadata": {},
   "source": [
    "**4) Check the numerical columns for Zero values**"
   ]
  },
  {
   "cell_type": "code",
   "execution_count": 9,
   "metadata": {},
   "outputs": [
    {
     "data": {
      "text/plain": [
       "6016"
      ]
     },
     "execution_count": 9,
     "metadata": {},
     "output_type": "execute_result"
    }
   ],
   "source": [
    "tmdb['revenue_adj'].value_counts()[0]"
   ]
  },
  {
   "cell_type": "code",
   "execution_count": 10,
   "metadata": {},
   "outputs": [
    {
     "data": {
      "text/plain": [
       "5696"
      ]
     },
     "execution_count": 10,
     "metadata": {},
     "output_type": "execute_result"
    }
   ],
   "source": [
    "tmdb['budget_adj'].value_counts()[0]\n"
   ]
  },
  {
   "cell_type": "code",
   "execution_count": 11,
   "metadata": {},
   "outputs": [
    {
     "data": {
      "text/plain": [
       "6016"
      ]
     },
     "execution_count": 11,
     "metadata": {},
     "output_type": "execute_result"
    }
   ],
   "source": [
    "tmdb['revenue'].value_counts()[0]\n"
   ]
  },
  {
   "cell_type": "code",
   "execution_count": 12,
   "metadata": {},
   "outputs": [
    {
     "data": {
      "text/plain": [
       "5696"
      ]
     },
     "execution_count": 12,
     "metadata": {},
     "output_type": "execute_result"
    }
   ],
   "source": [
    "tmdb['budget'].value_counts()[0]\n"
   ]
  },
  {
   "cell_type": "markdown",
   "metadata": {},
   "source": [
    "> We have a large number of zero values in 4 columns **revenue, budjet, revenue_adj, and budjet_adj** , replacing these values with the mean or median will affect the quality of the analysis badly, so, it is prefered to drop them all."
   ]
  },
  {
   "cell_type": "code",
   "execution_count": 13,
   "metadata": {},
   "outputs": [
    {
     "name": "stdout",
     "output_type": "stream",
     "text": [
      "<class 'pandas.core.frame.DataFrame'>\n",
      "RangeIndex: 3855 entries, 0 to 3854\n",
      "Data columns (total 14 columns):\n",
      "popularity              3855 non-null float64\n",
      "budget                  3855 non-null int64\n",
      "revenue                 3855 non-null int64\n",
      "original_title          3855 non-null object\n",
      "cast                    3855 non-null object\n",
      "director                3855 non-null object\n",
      "genres                  3855 non-null object\n",
      "production_companies    3855 non-null object\n",
      "release_date            3855 non-null object\n",
      "vote_count              3855 non-null int64\n",
      "vote_average            3855 non-null float64\n",
      "release_year            3855 non-null int64\n",
      "budget_adj              3855 non-null float64\n",
      "revenue_adj             3855 non-null float64\n",
      "dtypes: float64(4), int64(4), object(6)\n",
      "memory usage: 421.7+ KB\n"
     ]
    }
   ],
   "source": [
    "# These lines to keep +ve values only:\n",
    "tmdb = tmdb[tmdb['revenue_adj'] > 0]\n",
    "tmdb = tmdb[tmdb['budget_adj'] > 0]\n",
    "tmdb = tmdb[tmdb['revenue'] > 0]\n",
    "tmdb = tmdb[tmdb['budget'] > 0]\n",
    "tmdb.reset_index(drop=True,inplace=True)\n",
    "tmdb.info()"
   ]
  },
  {
   "cell_type": "markdown",
   "metadata": {},
   "source": [
    "**5) Convert 'release_date' values to datetimelike to extract month and to save it in a new column:**"
   ]
  },
  {
   "cell_type": "code",
   "execution_count": 14,
   "metadata": {},
   "outputs": [],
   "source": [
    "tmdb['release_date'] = pd.to_datetime(tmdb['release_date'])\n",
    "tmdb['release month']=tmdb['release_date'].dt.month_name()"
   ]
  },
  {
   "cell_type": "markdown",
   "metadata": {},
   "source": [
    "**6) Split the concatenated categorical data in columns (genre, cast,production_companies, and director):**"
   ]
  },
  {
   "cell_type": "code",
   "execution_count": 15,
   "metadata": {},
   "outputs": [],
   "source": [
    "# split the values of genres column and remove the delimiter \"|\"\n",
    "tmdb.genres=tmdb.genres.str.split('|')\n",
    "\n",
    "# split the values of cast column and remove the delimiter \"|\"\n",
    "tmdb.cast=tmdb.cast.str.split('|')\n",
    "\n",
    "\n",
    "# split the values of director column and remove the delimiters \"|\" and \"\\n\"\n",
    "tmdb.director=tmdb.director.apply(str).str.replace('|', '\\n')\n",
    "tmdb.director=tmdb.director.str.split('\\n')\n",
    "\n",
    "# split the values of director column and remove the delimiters \"|\" and \"\\n\"\n",
    "tmdb.production_companies=tmdb.production_companies.apply(str).str.replace('|', '\\n')\n",
    "tmdb.production_companies=tmdb.production_companies.str.split('\\n')"
   ]
  },
  {
   "cell_type": "markdown",
   "metadata": {},
   "source": [
    "<a id='eda'></a>\n",
    "## Exploratory Data Analysis\n",
    "\n",
    "\n",
    "### Prerequisites"
   ]
  },
  {
   "cell_type": "markdown",
   "metadata": {},
   "source": [
    "In order to deal with our dataset in efficient way we will define some function to do the follwing jobs:<br>\n",
    "> **1)** Create a list of unique Categorical values from genres, cast, movies, and director.<br>\n",
    "**2)** Create an empty dataframe, then fill its values with 0s in order to store the new manipulated data.<br>\n",
    "**3)** Data manipulation, and aggregation and storing these data inside the previously created dataframe.<br>\n",
    "**4)** Rank the new data according the case.<br>\n",
    "\n",
    "For the above required functionalities we will define four functions as follows:\n",
    ">* **categories_list()**: to return the categories as a list required by Pivot_Table() function.<br>\n",
    "* **empty_table()**: Return a new dataframe filled with 0s which it will be used as template by Pivot_Table() function<br>\n",
    "* **Pivot_Table()**: The most important function by which we do the manipulation and iteration over out dataset to answer the analysis questions<br>\n",
    "* **rank()**: take the dataframe from Pivot_Table() and rank the data per year, or do cumulative rank over years, It has the ability to either aggregate by sum or by count methods.\n",
    "* **myPlot()**: Take a dictionary of options and return the required plot, e.g. bar, or pie chart\n"
   ]
  },
  {
   "cell_type": "code",
   "execution_count": 16,
   "metadata": {},
   "outputs": [],
   "source": [
    "def categories_list(col):\n",
    "    \"\"\"Function to return the categories as a list\n",
    "       required by Pivot_Table function\"\"\"\n",
    "    _list=[]\n",
    "    for i in tmdb[col]:\n",
    "        for j in i:\n",
    "            if j not in _list:\n",
    "                _list.append(j)\n",
    "    return _list\n",
    "    "
   ]
  },
  {
   "cell_type": "code",
   "execution_count": 17,
   "metadata": {},
   "outputs": [],
   "source": [
    "def empty_table(itr):\n",
    "    \"\"\"Function to create a dataframe filled with 0s\n",
    "       to be used as input for Pivot_Table() function\"\"\"\n",
    "    df=pd.DataFrame(index=itr,columns=years)\n",
    "    df=df.fillna(0)\n",
    "    return df"
   ]
  },
  {
   "cell_type": "code",
   "execution_count": 18,
   "metadata": {},
   "outputs": [],
   "source": [
    "def Pivot_Table(ct,cv):\n",
    "    \"\"\"Function to produce and fill the new dataframe\n",
    "       accordng to the asked question\"\"\"\n",
    "    if ct != 'd':\n",
    "        if (ct == 'g' or ct == 'p'):# Set index to genres\n",
    "            idx='genres'\n",
    "            itr=genres\n",
    "        if ct == 'c':# Set index to movie's cast\n",
    "            idx='cast'\n",
    "            itr=cast\n",
    "        if ct == 'm':# Set index to release month\n",
    "            idx='release month'\n",
    "            itr=months\n",
    "        if ct == 's':# Set index to Studios\n",
    "            idx='production_companies'\n",
    "            itr=studios\n",
    "    else: # Set index to movie's director\n",
    "        idx='director'\n",
    "        itr=directors\n",
    "      \n",
    "    Piv_Tble = empty_table(itr)\n",
    "    y=0 #This to define the year location in the yrs array for each iteration\n",
    "    \n",
    "    for x in tmdb[idx]:\n",
    "        for i in itr:\n",
    "            if i in x:\n",
    "                if ct=='g': # this's the control condition\n",
    "                    Piv_Tble.loc[i,yrs[y]]+=1 # Fill according to Genres\n",
    "                else:\n",
    "                    Piv_Tble.loc[i,yrs[y]]+=tmdb[cv][y] # Fill according to Choice\n",
    "                 \n",
    "        y+=1\n",
    "    # This is to normalize any DataFrame that depends on Popularity to unify the ranges\n",
    "    if cv=='popularity':\n",
    "        Piv_Tble=Piv_Tble.apply(lambda x: (x-x.mean())/ x.std(), axis=0)\n",
    "       \n",
    "    return Piv_Tble    "
   ]
  },
  {
   "cell_type": "code",
   "execution_count": 19,
   "metadata": {},
   "outputs": [],
   "source": [
    "def rank(df0,y,c,IdxLis):\n",
    "    \"\"\"Function to display either the rank per year\n",
    "       or the cumulative rank over years\"\"\"\n",
    "    df=pd.DataFrame(data=[df0.idxmax().values,df0.max().values],\n",
    "                        columns=df0.columns,index=[f\"{IdxLis[0]}\" ,f\"{IdxLis[1]}\"])\n",
    "    if y!=1: # display rank by year\n",
    "        return df\n",
    "        \n",
    "    else: # display rank by count over the analysis period\n",
    "        # Transpose df in order to group by a categorical data on axis 0\n",
    "        df=df.T\n",
    "        if c==0:\n",
    "            df=df.groupby(f\"{IdxLis[0]}\").sum() #Aggregate by sum\n",
    "        else:\n",
    "            df=df.groupby(f\"{IdxLis[0]}\").count() #Aggregate by count\n",
    "        df.sort_values(by=f\"{IdxLis[1]}\", ascending=False ,inplace=True)\n",
    "        df=df.T # Transpose back the dataframe and make it horizontal\n",
    "        return df"
   ]
  },
  {
   "cell_type": "code",
   "execution_count": 20,
   "metadata": {},
   "outputs": [],
   "source": [
    "def myPlot(options):\n",
    "    \"\"\"Function to plot either bar or pie graphs\"\"\"\n",
    "    # Determine fig size\n",
    "    fig = plt.figure(figsize=options[\"figsize\"])\n",
    "    # condition of bar graph\n",
    "    if options[\"kind\"]==\"bar\":\n",
    "        plt.bar(range(len(options[\"categories\"])), options[\"data\"], color =options[\"color\"],\n",
    "                   tick_label=options[\"categories\"])\n",
    "        plt.xlabel(options[\"labels\"][0])\n",
    "        plt.ylabel(options[\"labels\"][1])\n",
    "        plt.xticks(rotation=90, ha='right')\n",
    "    # condition of pie chart\n",
    "    if options[\"kind\"]==\"pie\":\n",
    "        plt.pie(options[\"data\"], labels = options[\"categories\"], startangle = 90 ,\n",
    "                explode  = options[\"explode\"],autopct='%1.1f%%',labeldistance=1.05)\n",
    "        plt.axis('equal')\n",
    "        plt.tight_layout()\n",
    "    plt.title(options[\"title\"],fontweight='bold',loc='center')    \n",
    "    plt.show()"
   ]
  },
  {
   "cell_type": "code",
   "execution_count": 21,
   "metadata": {},
   "outputs": [],
   "source": [
    "# Now it's time to get a list of genres\n",
    "genres= categories_list('genres')"
   ]
  },
  {
   "cell_type": "markdown",
   "metadata": {},
   "source": [
    "Also, we need to create some lists and arrays as follows:<br>\n",
    ">* Unique genres list\n",
    "* Unique actors names list\n",
    "* Unique directors names list\n",
    "* Unique array of years\n",
    "* an array of the values of 'release_year'"
   ]
  },
  {
   "cell_type": "code",
   "execution_count": 22,
   "metadata": {},
   "outputs": [],
   "source": [
    "#Get a list of Actors\n",
    "cast=categories_list('cast')\n"
   ]
  },
  {
   "cell_type": "code",
   "execution_count": 23,
   "metadata": {},
   "outputs": [],
   "source": [
    "# Get a list of Directors\n",
    "directors=categories_list('director')"
   ]
  },
  {
   "cell_type": "code",
   "execution_count": 24,
   "metadata": {},
   "outputs": [],
   "source": [
    "# Get a list of Studios\n",
    "studios=categories_list('production_companies')"
   ]
  },
  {
   "cell_type": "code",
   "execution_count": 25,
   "metadata": {},
   "outputs": [],
   "source": [
    "# create an array of years range\n",
    "years= np.arange(tmdb.release_year.min(),tmdb.release_year.max()+1,1)\n",
    "# create an array of months\n",
    "months=np.array(['January', 'February', 'March', 'April', 'May', 'June', 'July',\n",
    "          'August', 'September', 'October', 'November', 'December'])"
   ]
  },
  {
   "cell_type": "code",
   "execution_count": 26,
   "metadata": {},
   "outputs": [],
   "source": [
    "# create an array of release year\n",
    "yrs=np.array(tmdb.release_year)"
   ]
  },
  {
   "cell_type": "markdown",
   "metadata": {},
   "source": [
    "## Now let us dive into our database:"
   ]
  },
  {
   "cell_type": "markdown",
   "metadata": {},
   "source": [
    "### Q1) Which genres are most popular from year to year?\n",
    "> ### Q1.1) Which genres are most popular from year to year according to producers?"
   ]
  },
  {
   "cell_type": "markdown",
   "metadata": {},
   "source": [
    ">Let's analyze the popular Genre according to the <u> **Number of produced movies of each category** </u>:<br>\n",
    "* for this we will create the main pivot table **Year_to_Year_Genres**, its values are the counts of movies of each genre per year:<br>"
   ]
  },
  {
   "cell_type": "code",
   "execution_count": 27,
   "metadata": {},
   "outputs": [],
   "source": [
    "# Create a pivot table with genres with movies counts as values\n",
    "Year_to_Year_Genres=Pivot_Table('g','movies')"
   ]
  },
  {
   "cell_type": "markdown",
   "metadata": {},
   "source": [
    "The most popular genre in from year to year according to the number of movie per each genre per each year:"
   ]
  },
  {
   "cell_type": "code",
   "execution_count": 28,
   "metadata": {},
   "outputs": [
    {
     "data": {
      "text/html": [
       "<div>\n",
       "<style scoped>\n",
       "    .dataframe tbody tr th:only-of-type {\n",
       "        vertical-align: middle;\n",
       "    }\n",
       "\n",
       "    .dataframe tbody tr th {\n",
       "        vertical-align: top;\n",
       "    }\n",
       "\n",
       "    .dataframe thead th {\n",
       "        text-align: right;\n",
       "    }\n",
       "</style>\n",
       "<table border=\"1\" class=\"dataframe\">\n",
       "  <thead>\n",
       "    <tr style=\"text-align: right;\">\n",
       "      <th></th>\n",
       "      <th>1960</th>\n",
       "      <th>1961</th>\n",
       "      <th>1962</th>\n",
       "      <th>1963</th>\n",
       "      <th>1964</th>\n",
       "      <th>1965</th>\n",
       "      <th>1966</th>\n",
       "      <th>1967</th>\n",
       "      <th>1968</th>\n",
       "      <th>1969</th>\n",
       "      <th>1970</th>\n",
       "      <th>1971</th>\n",
       "      <th>1972</th>\n",
       "      <th>1973</th>\n",
       "      <th>1974</th>\n",
       "      <th>1975</th>\n",
       "      <th>1976</th>\n",
       "      <th>1977</th>\n",
       "      <th>1978</th>\n",
       "      <th>1979</th>\n",
       "      <th>1980</th>\n",
       "      <th>1981</th>\n",
       "      <th>1982</th>\n",
       "      <th>1983</th>\n",
       "      <th>1984</th>\n",
       "      <th>1985</th>\n",
       "      <th>1986</th>\n",
       "      <th>1987</th>\n",
       "      <th>1988</th>\n",
       "      <th>1989</th>\n",
       "      <th>1990</th>\n",
       "      <th>1991</th>\n",
       "      <th>1992</th>\n",
       "      <th>1993</th>\n",
       "      <th>1994</th>\n",
       "      <th>1995</th>\n",
       "      <th>1996</th>\n",
       "      <th>1997</th>\n",
       "      <th>1998</th>\n",
       "      <th>1999</th>\n",
       "      <th>2000</th>\n",
       "      <th>2001</th>\n",
       "      <th>2002</th>\n",
       "      <th>2003</th>\n",
       "      <th>2004</th>\n",
       "      <th>2005</th>\n",
       "      <th>2006</th>\n",
       "      <th>2007</th>\n",
       "      <th>2008</th>\n",
       "      <th>2009</th>\n",
       "      <th>2010</th>\n",
       "      <th>2011</th>\n",
       "      <th>2012</th>\n",
       "      <th>2013</th>\n",
       "      <th>2014</th>\n",
       "      <th>2015</th>\n",
       "    </tr>\n",
       "  </thead>\n",
       "  <tbody>\n",
       "    <tr>\n",
       "      <th>Top Genres</th>\n",
       "      <td>Drama</td>\n",
       "      <td>Drama</td>\n",
       "      <td>Drama</td>\n",
       "      <td>Thriller</td>\n",
       "      <td>Drama</td>\n",
       "      <td>Drama</td>\n",
       "      <td>Action</td>\n",
       "      <td>Drama</td>\n",
       "      <td>Drama</td>\n",
       "      <td>Adventure</td>\n",
       "      <td>Drama</td>\n",
       "      <td>Thriller</td>\n",
       "      <td>Action</td>\n",
       "      <td>Drama</td>\n",
       "      <td>Drama</td>\n",
       "      <td>Drama</td>\n",
       "      <td>Drama</td>\n",
       "      <td>Drama</td>\n",
       "      <td>Drama</td>\n",
       "      <td>Drama</td>\n",
       "      <td>Drama</td>\n",
       "      <td>Thriller</td>\n",
       "      <td>Drama</td>\n",
       "      <td>Thriller</td>\n",
       "      <td>Action</td>\n",
       "      <td>Comedy</td>\n",
       "      <td>Drama</td>\n",
       "      <td>Comedy</td>\n",
       "      <td>Comedy</td>\n",
       "      <td>Comedy</td>\n",
       "      <td>Drama</td>\n",
       "      <td>Comedy</td>\n",
       "      <td>Drama</td>\n",
       "      <td>Drama</td>\n",
       "      <td>Comedy</td>\n",
       "      <td>Drama</td>\n",
       "      <td>Drama</td>\n",
       "      <td>Thriller</td>\n",
       "      <td>Drama</td>\n",
       "      <td>Comedy</td>\n",
       "      <td>Drama</td>\n",
       "      <td>Comedy</td>\n",
       "      <td>Drama</td>\n",
       "      <td>Comedy</td>\n",
       "      <td>Drama</td>\n",
       "      <td>Drama</td>\n",
       "      <td>Drama</td>\n",
       "      <td>Drama</td>\n",
       "      <td>Drama</td>\n",
       "      <td>Drama</td>\n",
       "      <td>Drama</td>\n",
       "      <td>Drama</td>\n",
       "      <td>Drama</td>\n",
       "      <td>Drama</td>\n",
       "      <td>Drama</td>\n",
       "      <td>Drama</td>\n",
       "    </tr>\n",
       "    <tr>\n",
       "      <th>Counts</th>\n",
       "      <td>3</td>\n",
       "      <td>6</td>\n",
       "      <td>5</td>\n",
       "      <td>3</td>\n",
       "      <td>4</td>\n",
       "      <td>3</td>\n",
       "      <td>2</td>\n",
       "      <td>7</td>\n",
       "      <td>6</td>\n",
       "      <td>2</td>\n",
       "      <td>7</td>\n",
       "      <td>8</td>\n",
       "      <td>3</td>\n",
       "      <td>7</td>\n",
       "      <td>8</td>\n",
       "      <td>5</td>\n",
       "      <td>7</td>\n",
       "      <td>9</td>\n",
       "      <td>7</td>\n",
       "      <td>7</td>\n",
       "      <td>8</td>\n",
       "      <td>9</td>\n",
       "      <td>12</td>\n",
       "      <td>13</td>\n",
       "      <td>16</td>\n",
       "      <td>19</td>\n",
       "      <td>19</td>\n",
       "      <td>23</td>\n",
       "      <td>25</td>\n",
       "      <td>24</td>\n",
       "      <td>22</td>\n",
       "      <td>22</td>\n",
       "      <td>27</td>\n",
       "      <td>36</td>\n",
       "      <td>27</td>\n",
       "      <td>42</td>\n",
       "      <td>47</td>\n",
       "      <td>40</td>\n",
       "      <td>45</td>\n",
       "      <td>56</td>\n",
       "      <td>45</td>\n",
       "      <td>51</td>\n",
       "      <td>64</td>\n",
       "      <td>45</td>\n",
       "      <td>62</td>\n",
       "      <td>82</td>\n",
       "      <td>89</td>\n",
       "      <td>75</td>\n",
       "      <td>81</td>\n",
       "      <td>83</td>\n",
       "      <td>85</td>\n",
       "      <td>89</td>\n",
       "      <td>66</td>\n",
       "      <td>80</td>\n",
       "      <td>79</td>\n",
       "      <td>81</td>\n",
       "    </tr>\n",
       "  </tbody>\n",
       "</table>\n",
       "</div>"
      ],
      "text/plain": [
       "             1960   1961   1962      1963   1964   1965    1966   1967   1968  \\\n",
       "Top Genres  Drama  Drama  Drama  Thriller  Drama  Drama  Action  Drama  Drama   \n",
       "Counts          3      6      5         3      4      3       2      7      6   \n",
       "\n",
       "                 1969   1970      1971    1972   1973   1974   1975   1976  \\\n",
       "Top Genres  Adventure  Drama  Thriller  Action  Drama  Drama  Drama  Drama   \n",
       "Counts              2      7         8       3      7      8      5      7   \n",
       "\n",
       "             1977   1978   1979   1980      1981   1982      1983    1984  \\\n",
       "Top Genres  Drama  Drama  Drama  Drama  Thriller  Drama  Thriller  Action   \n",
       "Counts          9      7      7      8         9     12        13      16   \n",
       "\n",
       "              1985   1986    1987    1988    1989   1990    1991   1992  \\\n",
       "Top Genres  Comedy  Drama  Comedy  Comedy  Comedy  Drama  Comedy  Drama   \n",
       "Counts          19     19      23      25      24     22      22     27   \n",
       "\n",
       "             1993    1994   1995   1996      1997   1998    1999   2000  \\\n",
       "Top Genres  Drama  Comedy  Drama  Drama  Thriller  Drama  Comedy  Drama   \n",
       "Counts         36      27     42     47        40     45      56     45   \n",
       "\n",
       "              2001   2002    2003   2004   2005   2006   2007   2008   2009  \\\n",
       "Top Genres  Comedy  Drama  Comedy  Drama  Drama  Drama  Drama  Drama  Drama   \n",
       "Counts          51     64      45     62     82     89     75     81     83   \n",
       "\n",
       "             2010   2011   2012   2013   2014   2015  \n",
       "Top Genres  Drama  Drama  Drama  Drama  Drama  Drama  \n",
       "Counts         85     89     66     80     79     81  "
      ]
     },
     "execution_count": 28,
     "metadata": {},
     "output_type": "execute_result"
    }
   ],
   "source": [
    "# Get the most popular genre according to the movies produced per year in 2000s\n",
    "rank(Year_to_Year_Genres,0,0,[\"Top Genres\",\"Counts\"])"
   ]
  },
  {
   "cell_type": "markdown",
   "metadata": {},
   "source": [
    "The results shows that Drama is the most dominant and prefered genre for the producers, the below table sums up the total movies per each genre during [1960-2015]."
   ]
  },
  {
   "cell_type": "code",
   "execution_count": 29,
   "metadata": {},
   "outputs": [
    {
     "data": {
      "text/html": [
       "<div>\n",
       "<style scoped>\n",
       "    .dataframe tbody tr th:only-of-type {\n",
       "        vertical-align: middle;\n",
       "    }\n",
       "\n",
       "    .dataframe tbody tr th {\n",
       "        vertical-align: top;\n",
       "    }\n",
       "\n",
       "    .dataframe thead th {\n",
       "        text-align: right;\n",
       "    }\n",
       "</style>\n",
       "<table border=\"1\" class=\"dataframe\">\n",
       "  <thead>\n",
       "    <tr style=\"text-align: right;\">\n",
       "      <th>Genre</th>\n",
       "      <th>Drama</th>\n",
       "      <th>Comedy</th>\n",
       "      <th>Thriller</th>\n",
       "      <th>Action</th>\n",
       "      <th>Adventure</th>\n",
       "    </tr>\n",
       "  </thead>\n",
       "  <tbody>\n",
       "    <tr>\n",
       "      <th>No. of Movies</th>\n",
       "      <td>1410</td>\n",
       "      <td>292</td>\n",
       "      <td>73</td>\n",
       "      <td>21</td>\n",
       "      <td>2</td>\n",
       "    </tr>\n",
       "  </tbody>\n",
       "</table>\n",
       "</div>"
      ],
      "text/plain": [
       "Genre          Drama  Comedy  Thriller  Action  Adventure\n",
       "No. of Movies   1410     292        73      21          2"
      ]
     },
     "execution_count": 29,
     "metadata": {},
     "output_type": "execute_result"
    }
   ],
   "source": [
    "rank(Year_to_Year_Genres,1,0,[\"Genre\",\"No. of Movies\"])"
   ]
  },
  {
   "cell_type": "code",
   "execution_count": 30,
   "metadata": {
    "scrolled": true
   },
   "outputs": [
    {
     "data": {
      "text/html": [
       "<div>\n",
       "<style scoped>\n",
       "    .dataframe tbody tr th:only-of-type {\n",
       "        vertical-align: middle;\n",
       "    }\n",
       "\n",
       "    .dataframe tbody tr th {\n",
       "        vertical-align: top;\n",
       "    }\n",
       "\n",
       "    .dataframe thead th {\n",
       "        text-align: right;\n",
       "    }\n",
       "</style>\n",
       "<table border=\"1\" class=\"dataframe\">\n",
       "  <thead>\n",
       "    <tr style=\"text-align: right;\">\n",
       "      <th>Genre</th>\n",
       "      <th>Drama</th>\n",
       "      <th>Comedy</th>\n",
       "      <th>Thriller</th>\n",
       "      <th>Action</th>\n",
       "      <th>Adventure</th>\n",
       "    </tr>\n",
       "  </thead>\n",
       "  <tbody>\n",
       "    <tr>\n",
       "      <th>Hit Years</th>\n",
       "      <td>38</td>\n",
       "      <td>9</td>\n",
       "      <td>5</td>\n",
       "      <td>3</td>\n",
       "      <td>1</td>\n",
       "    </tr>\n",
       "  </tbody>\n",
       "</table>\n",
       "</div>"
      ],
      "text/plain": [
       "Genre      Drama  Comedy  Thriller  Action  Adventure\n",
       "Hit Years     38       9         5       3          1"
      ]
     },
     "execution_count": 30,
     "metadata": {},
     "output_type": "execute_result"
    }
   ],
   "source": [
    "rank(Year_to_Year_Genres,1,1,[\"Genre\",\"Hit Years\"])"
   ]
  },
  {
   "cell_type": "code",
   "execution_count": 31,
   "metadata": {},
   "outputs": [
    {
     "data": {
      "image/png": "[encoded data removed]",
      "text/plain": [
       "<matplotlib.figure.Figure at 0x7f5af51bff60>"
      ]
     },
     "metadata": {},
     "output_type": "display_data"
    }
   ],
   "source": [
    "Pldata=rank(Year_to_Year_Genres,1,1,[\"Genre\",\"Total\"]).values.tolist()[0]\n",
    "Plidx=rank(Year_to_Year_Genres,1,1,[\"Genre\",\"Total\"]).columns\n",
    "myPlot({\"kind\":\"pie\",\"data\":Pldata,\"categories\":Plidx,\"figsize\":(4,4),\"explode\":[0.1, 0, 0, 0.2,0.4],\n",
    "        \"title\":\"The Popularity of different genres between producers\"})"
   ]
  },
  {
   "cell_type": "markdown",
   "metadata": {},
   "source": [
    "### <font color=green>Drama is the most chosen genre by the producers #</font>"
   ]
  },
  {
   "cell_type": "markdown",
   "metadata": {},
   "source": [
    "> ### Q1.2) Do viewers agree with producers in drama genre preference??"
   ]
  },
  {
   "cell_type": "markdown",
   "metadata": {},
   "source": [
    ">To answer this question we will create the main pivot table **Year_to_Year_Popularity**, its values are the sum of the movies popularity per each genre per year:<br>"
   ]
  },
  {
   "cell_type": "code",
   "execution_count": 32,
   "metadata": {},
   "outputs": [],
   "source": [
    "# Genres according to the movies popularotes per year\n",
    "Year_to_Year_Popularity=Pivot_Table('p','popularity')"
   ]
  },
  {
   "cell_type": "code",
   "execution_count": 33,
   "metadata": {
    "scrolled": true
   },
   "outputs": [
    {
     "data": {
      "text/html": [
       "<div>\n",
       "<style scoped>\n",
       "    .dataframe tbody tr th:only-of-type {\n",
       "        vertical-align: middle;\n",
       "    }\n",
       "\n",
       "    .dataframe tbody tr th {\n",
       "        vertical-align: top;\n",
       "    }\n",
       "\n",
       "    .dataframe thead th {\n",
       "        text-align: right;\n",
       "    }\n",
       "</style>\n",
       "<table border=\"1\" class=\"dataframe\">\n",
       "  <thead>\n",
       "    <tr style=\"text-align: right;\">\n",
       "      <th></th>\n",
       "      <th>1960</th>\n",
       "      <th>1961</th>\n",
       "      <th>1962</th>\n",
       "      <th>1963</th>\n",
       "      <th>1964</th>\n",
       "      <th>1965</th>\n",
       "      <th>1966</th>\n",
       "      <th>1967</th>\n",
       "      <th>1968</th>\n",
       "      <th>1969</th>\n",
       "      <th>1970</th>\n",
       "      <th>1971</th>\n",
       "      <th>1972</th>\n",
       "      <th>1973</th>\n",
       "      <th>1974</th>\n",
       "      <th>1975</th>\n",
       "      <th>1976</th>\n",
       "      <th>1977</th>\n",
       "      <th>1978</th>\n",
       "      <th>1979</th>\n",
       "      <th>1980</th>\n",
       "      <th>1981</th>\n",
       "      <th>1982</th>\n",
       "      <th>1983</th>\n",
       "      <th>1984</th>\n",
       "      <th>1985</th>\n",
       "      <th>1986</th>\n",
       "      <th>1987</th>\n",
       "      <th>1988</th>\n",
       "      <th>1989</th>\n",
       "      <th>1990</th>\n",
       "      <th>1991</th>\n",
       "      <th>1992</th>\n",
       "      <th>1993</th>\n",
       "      <th>1994</th>\n",
       "      <th>1995</th>\n",
       "      <th>1996</th>\n",
       "      <th>1997</th>\n",
       "      <th>1998</th>\n",
       "      <th>1999</th>\n",
       "      <th>2000</th>\n",
       "      <th>2001</th>\n",
       "      <th>2002</th>\n",
       "      <th>2003</th>\n",
       "      <th>2004</th>\n",
       "      <th>2005</th>\n",
       "      <th>2006</th>\n",
       "      <th>2007</th>\n",
       "      <th>2008</th>\n",
       "      <th>2009</th>\n",
       "      <th>2010</th>\n",
       "      <th>2011</th>\n",
       "      <th>2012</th>\n",
       "      <th>2013</th>\n",
       "      <th>2014</th>\n",
       "      <th>2015</th>\n",
       "    </tr>\n",
       "  </thead>\n",
       "  <tbody>\n",
       "    <tr>\n",
       "      <th>Popular Genre</th>\n",
       "      <td>Drama</td>\n",
       "      <td>Comedy</td>\n",
       "      <td>Adventure</td>\n",
       "      <td>Thriller</td>\n",
       "      <td>Comedy</td>\n",
       "      <td>Drama</td>\n",
       "      <td>Drama</td>\n",
       "      <td>Adventure</td>\n",
       "      <td>Mystery</td>\n",
       "      <td>Adventure</td>\n",
       "      <td>Comedy</td>\n",
       "      <td>Science Fiction</td>\n",
       "      <td>Drama</td>\n",
       "      <td>Drama</td>\n",
       "      <td>Drama</td>\n",
       "      <td>Drama</td>\n",
       "      <td>Drama</td>\n",
       "      <td>Adventure</td>\n",
       "      <td>Horror</td>\n",
       "      <td>Science Fiction</td>\n",
       "      <td>Action</td>\n",
       "      <td>Adventure</td>\n",
       "      <td>Science Fiction</td>\n",
       "      <td>Action</td>\n",
       "      <td>Action</td>\n",
       "      <td>Adventure</td>\n",
       "      <td>Drama</td>\n",
       "      <td>Comedy</td>\n",
       "      <td>Comedy</td>\n",
       "      <td>Comedy</td>\n",
       "      <td>Drama</td>\n",
       "      <td>Action</td>\n",
       "      <td>Thriller</td>\n",
       "      <td>Drama</td>\n",
       "      <td>Drama</td>\n",
       "      <td>Drama</td>\n",
       "      <td>Drama</td>\n",
       "      <td>Thriller</td>\n",
       "      <td>Drama</td>\n",
       "      <td>Drama</td>\n",
       "      <td>Comedy</td>\n",
       "      <td>Drama</td>\n",
       "      <td>Drama</td>\n",
       "      <td>Action</td>\n",
       "      <td>Comedy</td>\n",
       "      <td>Drama</td>\n",
       "      <td>Drama</td>\n",
       "      <td>Drama</td>\n",
       "      <td>Drama</td>\n",
       "      <td>Drama</td>\n",
       "      <td>Action</td>\n",
       "      <td>Action</td>\n",
       "      <td>Drama</td>\n",
       "      <td>Drama</td>\n",
       "      <td>Action</td>\n",
       "      <td>Action</td>\n",
       "    </tr>\n",
       "    <tr>\n",
       "      <th>Score</th>\n",
       "      <td>2.71</td>\n",
       "      <td>2.35</td>\n",
       "      <td>2.57</td>\n",
       "      <td>2.57</td>\n",
       "      <td>2.06</td>\n",
       "      <td>1.77</td>\n",
       "      <td>2.70</td>\n",
       "      <td>2.32</td>\n",
       "      <td>2.27</td>\n",
       "      <td>1.89</td>\n",
       "      <td>2.13</td>\n",
       "      <td>2.02</td>\n",
       "      <td>2.97</td>\n",
       "      <td>2.40</td>\n",
       "      <td>2.53</td>\n",
       "      <td>2.10</td>\n",
       "      <td>3.07</td>\n",
       "      <td>2.50</td>\n",
       "      <td>2.27</td>\n",
       "      <td>2.33</td>\n",
       "      <td>2.14</td>\n",
       "      <td>2.21</td>\n",
       "      <td>2.02</td>\n",
       "      <td>2.42</td>\n",
       "      <td>2.41</td>\n",
       "      <td>2.41</td>\n",
       "      <td>2.27</td>\n",
       "      <td>1.77</td>\n",
       "      <td>2.43</td>\n",
       "      <td>2.11</td>\n",
       "      <td>1.87</td>\n",
       "      <td>2.07</td>\n",
       "      <td>1.97</td>\n",
       "      <td>2.40</td>\n",
       "      <td>2.11</td>\n",
       "      <td>2.26</td>\n",
       "      <td>2.29</td>\n",
       "      <td>2.32</td>\n",
       "      <td>2.29</td>\n",
       "      <td>2.59</td>\n",
       "      <td>2.07</td>\n",
       "      <td>1.79</td>\n",
       "      <td>1.91</td>\n",
       "      <td>2.49</td>\n",
       "      <td>1.88</td>\n",
       "      <td>1.92</td>\n",
       "      <td>2.20</td>\n",
       "      <td>2.03</td>\n",
       "      <td>1.93</td>\n",
       "      <td>1.72</td>\n",
       "      <td>1.79</td>\n",
       "      <td>1.88</td>\n",
       "      <td>1.91</td>\n",
       "      <td>1.96</td>\n",
       "      <td>2.02</td>\n",
       "      <td>1.81</td>\n",
       "    </tr>\n",
       "  </tbody>\n",
       "</table>\n",
       "</div>"
      ],
      "text/plain": [
       "                1960    1961       1962      1963    1964   1965   1966  \\\n",
       "Popular Genre  Drama  Comedy  Adventure  Thriller  Comedy  Drama  Drama   \n",
       "Score           2.71    2.35       2.57      2.57    2.06   1.77   2.70   \n",
       "\n",
       "                    1967     1968       1969    1970             1971   1972  \\\n",
       "Popular Genre  Adventure  Mystery  Adventure  Comedy  Science Fiction  Drama   \n",
       "Score               2.32     2.27       1.89    2.13             2.02   2.97   \n",
       "\n",
       "                1973   1974   1975   1976       1977    1978             1979  \\\n",
       "Popular Genre  Drama  Drama  Drama  Drama  Adventure  Horror  Science Fiction   \n",
       "Score           2.40   2.53   2.10   3.07       2.50    2.27             2.33   \n",
       "\n",
       "                 1980       1981             1982    1983    1984       1985  \\\n",
       "Popular Genre  Action  Adventure  Science Fiction  Action  Action  Adventure   \n",
       "Score            2.14       2.21             2.02    2.42    2.41       2.41   \n",
       "\n",
       "                1986    1987    1988    1989   1990    1991      1992   1993  \\\n",
       "Popular Genre  Drama  Comedy  Comedy  Comedy  Drama  Action  Thriller  Drama   \n",
       "Score           2.27    1.77    2.43    2.11   1.87    2.07      1.97   2.40   \n",
       "\n",
       "                1994   1995   1996      1997   1998   1999    2000   2001  \\\n",
       "Popular Genre  Drama  Drama  Drama  Thriller  Drama  Drama  Comedy  Drama   \n",
       "Score           2.11   2.26   2.29      2.32   2.29   2.59    2.07   1.79   \n",
       "\n",
       "                2002    2003    2004   2005   2006   2007   2008   2009  \\\n",
       "Popular Genre  Drama  Action  Comedy  Drama  Drama  Drama  Drama  Drama   \n",
       "Score           1.91    2.49    1.88   1.92   2.20   2.03   1.93   1.72   \n",
       "\n",
       "                 2010    2011   2012   2013    2014    2015  \n",
       "Popular Genre  Action  Action  Drama  Drama  Action  Action  \n",
       "Score            1.79    1.88   1.91   1.96    2.02    1.81  "
      ]
     },
     "execution_count": 33,
     "metadata": {},
     "output_type": "execute_result"
    }
   ],
   "source": [
    "# Get the most popular genre and its score according to the movies Popularity per year\n",
    "rank(Year_to_Year_Popularity,0,0,[\"Popular Genre\",\"Score\"])"
   ]
  },
  {
   "cell_type": "markdown",
   "metadata": {},
   "source": [
    ">The results shows that Drama is the most dominant and prefered genre for the viewers, the below table sums up the top genres by movies count per each genre during [1960-2015]:"
   ]
  },
  {
   "cell_type": "code",
   "execution_count": 34,
   "metadata": {
    "scrolled": true
   },
   "outputs": [
    {
     "data": {
      "text/html": [
       "<div>\n",
       "<style scoped>\n",
       "    .dataframe tbody tr th:only-of-type {\n",
       "        vertical-align: middle;\n",
       "    }\n",
       "\n",
       "    .dataframe tbody tr th {\n",
       "        vertical-align: top;\n",
       "    }\n",
       "\n",
       "    .dataframe thead th {\n",
       "        text-align: right;\n",
       "    }\n",
       "</style>\n",
       "<table border=\"1\" class=\"dataframe\">\n",
       "  <thead>\n",
       "    <tr style=\"text-align: right;\">\n",
       "      <th>Popular Genre</th>\n",
       "      <th>Drama</th>\n",
       "      <th>Action</th>\n",
       "      <th>Comedy</th>\n",
       "      <th>Adventure</th>\n",
       "      <th>Science Fiction</th>\n",
       "      <th>Thriller</th>\n",
       "      <th>Horror</th>\n",
       "      <th>Mystery</th>\n",
       "    </tr>\n",
       "  </thead>\n",
       "  <tbody>\n",
       "    <tr>\n",
       "      <th>Hit Years</th>\n",
       "      <td>25</td>\n",
       "      <td>9</td>\n",
       "      <td>8</td>\n",
       "      <td>6</td>\n",
       "      <td>3</td>\n",
       "      <td>3</td>\n",
       "      <td>1</td>\n",
       "      <td>1</td>\n",
       "    </tr>\n",
       "  </tbody>\n",
       "</table>\n",
       "</div>"
      ],
      "text/plain": [
       "Popular Genre  Drama  Action  Comedy  Adventure  Science Fiction  Thriller  \\\n",
       "Hit Years         25       9       8          6                3         3   \n",
       "\n",
       "Popular Genre  Horror  Mystery  \n",
       "Hit Years           1        1  "
      ]
     },
     "execution_count": 34,
     "metadata": {},
     "output_type": "execute_result"
    }
   ],
   "source": [
    "rank(Year_to_Year_Popularity,1,1,[\"Popular Genre\",\"Hit Years\"])"
   ]
  },
  {
   "cell_type": "code",
   "execution_count": 35,
   "metadata": {},
   "outputs": [
    {
     "data": {
      "image/png": "[encoded data removed]",
      "text/plain": [
       "<matplotlib.figure.Figure at 0x7f5af56e5198>"
      ]
     },
     "metadata": {},
     "output_type": "display_data"
    }
   ],
   "source": [
    "Pldata=rank(Year_to_Year_Popularity,1,1,[\"Popular Genre\",\"Score\"]).values.tolist()[0]\n",
    "Plidx=rank(Year_to_Year_Popularity,1,1,[\"Popular Genre\",\"Score\"]).columns\n",
    "myPlot({\"kind\":\"pie\",\"data\":Pldata,\"categories\":Plidx,\"figsize\":(4,4),\"explode\":[0.1, 0, 0, 0,0,0,0.2,0.4],\n",
    "       \"title\":\"The Popularity of different genres between Viewers\"})"
   ]
  },
  {
   "cell_type": "markdown",
   "metadata": {},
   "source": [
    "### <font color=green>Drama is the most popular genre between the viewers #</font>"
   ]
  },
  {
   "cell_type": "markdown",
   "metadata": {},
   "source": [
    "### Q2) What kinds of properties are associated with movies that have high revenues?"
   ]
  },
  {
   "cell_type": "markdown",
   "metadata": {},
   "source": [
    "If i'm a viewer, critic, or producer what does make me think that a certain movie is successful?<br><br>\n",
    ">The answer to this question is the key of our analysis, in the insight of the dataset the answer could be:<br>\n",
    "* Popular and grossing Actor\n",
    "* Popular and grossing Director\n",
    "* Professional Production Studios\n",
    "* Suitable Showtime (Summer vacation, Holidays, etc..)\n",
    "* High Budjet"
   ]
  },
  {
   "cell_type": "markdown",
   "metadata": {},
   "source": [
    ">### Q2.1) Who are the top grossing Actors?<br>\n",
    ">to answer this question we will create the main pivot tables **Actor_Revenue**, its values are the sum of movies revenue for each actor/actress<br>\n"
   ]
  },
  {
   "cell_type": "code",
   "execution_count": 36,
   "metadata": {},
   "outputs": [],
   "source": [
    "# A dataframe contains the revenue of each Actor/Actress per year\n",
    "Actor_Revenue= Pivot_Table('c','revenue_adj')"
   ]
  },
  {
   "cell_type": "markdown",
   "metadata": {},
   "source": [
    ">Now let's check the most grossing Actors/Actresses over the period from 1960 to 2015 by calling **rank()** function  with the suitable parameters as follows:"
   ]
  },
  {
   "cell_type": "code",
   "execution_count": 37,
   "metadata": {
    "scrolled": false
   },
   "outputs": [
    {
     "data": {
      "text/html": [
       "<div>\n",
       "<style scoped>\n",
       "    .dataframe tbody tr th:only-of-type {\n",
       "        vertical-align: middle;\n",
       "    }\n",
       "\n",
       "    .dataframe tbody tr th {\n",
       "        vertical-align: top;\n",
       "    }\n",
       "\n",
       "    .dataframe thead th {\n",
       "        text-align: right;\n",
       "    }\n",
       "</style>\n",
       "<table border=\"1\" class=\"dataframe\">\n",
       "  <thead>\n",
       "    <tr style=\"text-align: right;\">\n",
       "      <th>Actor</th>\n",
       "      <th>Harrison Ford</th>\n",
       "      <th>Sam Worthington</th>\n",
       "      <th>Kate Winslet</th>\n",
       "      <th>Helena Bonham Carter</th>\n",
       "      <th>Ellen Burstyn</th>\n",
       "      <th>Sean Connery</th>\n",
       "      <th>Orlando Bloom</th>\n",
       "      <th>Chris Hemsworth</th>\n",
       "      <th>Richard Dreyfuss</th>\n",
       "      <th>Sandra Bullock</th>\n",
       "      <th>Drew Barrymore</th>\n",
       "      <th>Tom Cruise</th>\n",
       "      <th>Maggie Smith</th>\n",
       "      <th>Laura Dern</th>\n",
       "      <th>Rod Taylor</th>\n",
       "      <th>Ian McKellen</th>\n",
       "      <th>Ian McDiarmid</th>\n",
       "      <th>Ewan McGregor</th>\n",
       "      <th>Phil Harris</th>\n",
       "      <th>Ben Kingsley</th>\n",
       "      <th>Robbie Coltrane</th>\n",
       "      <th>Al Pacino</th>\n",
       "      <th>Bill Nighy</th>\n",
       "      <th>Samuel L. Jackson</th>\n",
       "      <th>Sylvester Stallone</th>\n",
       "      <th>Ben Stiller</th>\n",
       "      <th>Johnny Depp</th>\n",
       "      <th>James Earl Jones</th>\n",
       "      <th>Joe Pesci</th>\n",
       "      <th>Will Smith</th>\n",
       "      <th>Cate Blanchett</th>\n",
       "      <th>Christopher Plummer</th>\n",
       "      <th>Helen Hunt</th>\n",
       "      <th>Ned Beatty</th>\n",
       "      <th>Tom Hanks</th>\n",
       "      <th>Kevin Costner</th>\n",
       "      <th>Madeline Kahn</th>\n",
       "      <th>Julia Roberts</th>\n",
       "      <th>Ali MacGraw</th>\n",
       "      <th>Kate Capshaw</th>\n",
       "      <th>Michael Douglas</th>\n",
       "      <th>Roger Moore</th>\n",
       "      <th>Barbra Streisand</th>\n",
       "      <th>Robert Redford</th>\n",
       "      <th>Alec Guinness</th>\n",
       "      <th>Jean Simmons</th>\n",
       "      <th>Maurice Evans</th>\n",
       "      <th>Richard Burton</th>\n",
       "    </tr>\n",
       "  </thead>\n",
       "  <tbody>\n",
       "    <tr>\n",
       "      <th>Gross Profit</th>\n",
       "      <td>9,179,277,861.13</td>\n",
       "      <td>3,204,567,101.84</td>\n",
       "      <td>2,506,405,735.42</td>\n",
       "      <td>2,393,984,527.00</td>\n",
       "      <td>2,167,324,901.20</td>\n",
       "      <td>2,113,748,240.49</td>\n",
       "      <td>2,102,697,297.21</td>\n",
       "      <td>1,925,559,777.38</td>\n",
       "      <td>1,907,005,841.92</td>\n",
       "      <td>1,843,567,094.17</td>\n",
       "      <td>1,791,694,309.25</td>\n",
       "      <td>1,784,410,628.73</td>\n",
       "      <td>1,603,739,559.58</td>\n",
       "      <td>1,592,839,495.64</td>\n",
       "      <td>1,574,814,739.70</td>\n",
       "      <td>1,566,886,213.02</td>\n",
       "      <td>1,479,739,016.75</td>\n",
       "      <td>1,453,169,600.49</td>\n",
       "      <td>1,345,551,058.99</td>\n",
       "      <td>1,308,819,326.84</td>\n",
       "      <td>1,294,335,468.69</td>\n",
       "      <td>1,277,913,732.39</td>\n",
       "      <td>1,275,925,075.37</td>\n",
       "      <td>1,238,667,445.91</td>\n",
       "      <td>1,218,071,674.51</td>\n",
       "      <td>1,185,150,628.57</td>\n",
       "      <td>1,170,507,132.47</td>\n",
       "      <td>1,159,591,590.01</td>\n",
       "      <td>1,157,455,540.14</td>\n",
       "      <td>1,135,764,351.59</td>\n",
       "      <td>1,134,896,410.16</td>\n",
       "      <td>1,129,534,861.99</td>\n",
       "      <td>1,088,316,353.20</td>\n",
       "      <td>1,003,538,977.39</td>\n",
       "      <td>980,079,178.19</td>\n",
       "      <td>954,090,273.46</td>\n",
       "      <td>909,988,095.21</td>\n",
       "      <td>875,319,368.77</td>\n",
       "      <td>766,072,642.11</td>\n",
       "      <td>739,419,677.85</td>\n",
       "      <td>698,533,308.23</td>\n",
       "      <td>631,857,706.73</td>\n",
       "      <td>616,903,382.58</td>\n",
       "      <td>608,151,066.34</td>\n",
       "      <td>504,591,421.51</td>\n",
       "      <td>442,378,047.43</td>\n",
       "      <td>418,709,421.00</td>\n",
       "      <td>226,643,572.37</td>\n",
       "    </tr>\n",
       "  </tbody>\n",
       "</table>\n",
       "</div>"
      ],
      "text/plain": [
       "Actor           Harrison Ford  Sam Worthington     Kate Winslet  \\\n",
       "Gross Profit 9,179,277,861.13 3,204,567,101.84 2,506,405,735.42   \n",
       "\n",
       "Actor         Helena Bonham Carter    Ellen Burstyn     Sean Connery  \\\n",
       "Gross Profit      2,393,984,527.00 2,167,324,901.20 2,113,748,240.49   \n",
       "\n",
       "Actor           Orlando Bloom  Chris Hemsworth  Richard Dreyfuss  \\\n",
       "Gross Profit 2,102,697,297.21 1,925,559,777.38  1,907,005,841.92   \n",
       "\n",
       "Actor          Sandra Bullock   Drew Barrymore       Tom Cruise  \\\n",
       "Gross Profit 1,843,567,094.17 1,791,694,309.25 1,784,410,628.73   \n",
       "\n",
       "Actor            Maggie Smith       Laura Dern       Rod Taylor  \\\n",
       "Gross Profit 1,603,739,559.58 1,592,839,495.64 1,574,814,739.70   \n",
       "\n",
       "Actor            Ian McKellen    Ian McDiarmid    Ewan McGregor  \\\n",
       "Gross Profit 1,566,886,213.02 1,479,739,016.75 1,453,169,600.49   \n",
       "\n",
       "Actor             Phil Harris     Ben Kingsley  Robbie Coltrane  \\\n",
       "Gross Profit 1,345,551,058.99 1,308,819,326.84 1,294,335,468.69   \n",
       "\n",
       "Actor               Al Pacino       Bill Nighy  Samuel L. Jackson  \\\n",
       "Gross Profit 1,277,913,732.39 1,275,925,075.37   1,238,667,445.91   \n",
       "\n",
       "Actor         Sylvester Stallone      Ben Stiller      Johnny Depp  \\\n",
       "Gross Profit    1,218,071,674.51 1,185,150,628.57 1,170,507,132.47   \n",
       "\n",
       "Actor         James Earl Jones        Joe Pesci       Will Smith  \\\n",
       "Gross Profit  1,159,591,590.01 1,157,455,540.14 1,135,764,351.59   \n",
       "\n",
       "Actor          Cate Blanchett  Christopher Plummer       Helen Hunt  \\\n",
       "Gross Profit 1,134,896,410.16     1,129,534,861.99 1,088,316,353.20   \n",
       "\n",
       "Actor              Ned Beatty      Tom Hanks  Kevin Costner  Madeline Kahn  \\\n",
       "Gross Profit 1,003,538,977.39 980,079,178.19 954,090,273.46 909,988,095.21   \n",
       "\n",
       "Actor         Julia Roberts    Ali MacGraw   Kate Capshaw  Michael Douglas  \\\n",
       "Gross Profit 875,319,368.77 766,072,642.11 739,419,677.85   698,533,308.23   \n",
       "\n",
       "Actor           Roger Moore  Barbra Streisand  Robert Redford  Alec Guinness  \\\n",
       "Gross Profit 631,857,706.73    616,903,382.58  608,151,066.34 504,591,421.51   \n",
       "\n",
       "Actor          Jean Simmons  Maurice Evans  Richard Burton  \n",
       "Gross Profit 442,378,047.43 418,709,421.00  226,643,572.37  "
      ]
     },
     "execution_count": 37,
     "metadata": {},
     "output_type": "execute_result"
    }
   ],
   "source": [
    "rank(Actor_Revenue,1,0,[\"Actor\",\"Gross Profit\"])"
   ]
  },
  {
   "cell_type": "code",
   "execution_count": 38,
   "metadata": {},
   "outputs": [
    {
     "data": {
      "image/png": "[encoded data removed]",
      "text/plain": [
       "<matplotlib.figure.Figure at 0x7f5af4b775f8>"
      ]
     },
     "metadata": {
      "needs_background": "light"
     },
     "output_type": "display_data"
    }
   ],
   "source": [
    "Pldata=rank(Actor_Revenue,1,0,[\"Actor\",\"Gross Profit\"]).values.tolist()[0]\n",
    "Plidx=rank(Actor_Revenue,1,0,[\"Actor\",\"Gross Profit\"]).columns\n",
    "myPlot({\"kind\":\"bar\",\"data\":Pldata,\"categories\":Plidx,\"figsize\":(9,3),\"color\":\"maroon\",\n",
    "       \"labels\":[\"Actor\",\"Gross Profit\"],\"title\":\"Actor/Actress vs. Revenue_adj\"})"
   ]
  },
  {
   "cell_type": "code",
   "execution_count": 39,
   "metadata": {},
   "outputs": [
    {
     "data": {
      "text/html": [
       "<div>\n",
       "<style scoped>\n",
       "    .dataframe tbody tr th:only-of-type {\n",
       "        vertical-align: middle;\n",
       "    }\n",
       "\n",
       "    .dataframe tbody tr th {\n",
       "        vertical-align: top;\n",
       "    }\n",
       "\n",
       "    .dataframe thead th {\n",
       "        text-align: right;\n",
       "    }\n",
       "</style>\n",
       "<table border=\"1\" class=\"dataframe\">\n",
       "  <thead>\n",
       "    <tr style=\"text-align: right;\">\n",
       "      <th>Actor</th>\n",
       "      <th>Harrison Ford</th>\n",
       "      <th>Sean Connery</th>\n",
       "      <th>Tom Cruise</th>\n",
       "      <th>Al Pacino</th>\n",
       "      <th>Madeline Kahn</th>\n",
       "      <th>Maggie Smith</th>\n",
       "      <th>Maurice Evans</th>\n",
       "      <th>Michael Douglas</th>\n",
       "      <th>Ned Beatty</th>\n",
       "      <th>Orlando Bloom</th>\n",
       "      <th>Phil Harris</th>\n",
       "      <th>Richard Burton</th>\n",
       "      <th>Richard Dreyfuss</th>\n",
       "      <th>Robbie Coltrane</th>\n",
       "      <th>Kevin Costner</th>\n",
       "      <th>Robert Redford</th>\n",
       "      <th>Rod Taylor</th>\n",
       "      <th>Roger Moore</th>\n",
       "      <th>Sam Worthington</th>\n",
       "      <th>Samuel L. Jackson</th>\n",
       "      <th>Sandra Bullock</th>\n",
       "      <th>Sylvester Stallone</th>\n",
       "      <th>Tom Hanks</th>\n",
       "      <th>Laura Dern</th>\n",
       "      <th>Kate Winslet</th>\n",
       "      <th>Alec Guinness</th>\n",
       "      <th>Ellen Burstyn</th>\n",
       "      <th>Ali MacGraw</th>\n",
       "      <th>Barbra Streisand</th>\n",
       "      <th>Ben Kingsley</th>\n",
       "      <th>Ben Stiller</th>\n",
       "      <th>Bill Nighy</th>\n",
       "      <th>Cate Blanchett</th>\n",
       "      <th>Chris Hemsworth</th>\n",
       "      <th>Christopher Plummer</th>\n",
       "      <th>Drew Barrymore</th>\n",
       "      <th>Ewan McGregor</th>\n",
       "      <th>Kate Capshaw</th>\n",
       "      <th>Helen Hunt</th>\n",
       "      <th>Helena Bonham Carter</th>\n",
       "      <th>Ian McDiarmid</th>\n",
       "      <th>Ian McKellen</th>\n",
       "      <th>James Earl Jones</th>\n",
       "      <th>Jean Simmons</th>\n",
       "      <th>Joe Pesci</th>\n",
       "      <th>Johnny Depp</th>\n",
       "      <th>Julia Roberts</th>\n",
       "      <th>Will Smith</th>\n",
       "    </tr>\n",
       "  </thead>\n",
       "  <tbody>\n",
       "    <tr>\n",
       "      <th>Hit Years</th>\n",
       "      <td>6</td>\n",
       "      <td>3</td>\n",
       "      <td>2</td>\n",
       "      <td>1</td>\n",
       "      <td>1</td>\n",
       "      <td>1</td>\n",
       "      <td>1</td>\n",
       "      <td>1</td>\n",
       "      <td>1</td>\n",
       "      <td>1</td>\n",
       "      <td>1</td>\n",
       "      <td>1</td>\n",
       "      <td>1</td>\n",
       "      <td>1</td>\n",
       "      <td>1</td>\n",
       "      <td>1</td>\n",
       "      <td>1</td>\n",
       "      <td>1</td>\n",
       "      <td>1</td>\n",
       "      <td>1</td>\n",
       "      <td>1</td>\n",
       "      <td>1</td>\n",
       "      <td>1</td>\n",
       "      <td>1</td>\n",
       "      <td>1</td>\n",
       "      <td>1</td>\n",
       "      <td>1</td>\n",
       "      <td>1</td>\n",
       "      <td>1</td>\n",
       "      <td>1</td>\n",
       "      <td>1</td>\n",
       "      <td>1</td>\n",
       "      <td>1</td>\n",
       "      <td>1</td>\n",
       "      <td>1</td>\n",
       "      <td>1</td>\n",
       "      <td>1</td>\n",
       "      <td>1</td>\n",
       "      <td>1</td>\n",
       "      <td>1</td>\n",
       "      <td>1</td>\n",
       "      <td>1</td>\n",
       "      <td>1</td>\n",
       "      <td>1</td>\n",
       "      <td>1</td>\n",
       "      <td>1</td>\n",
       "      <td>1</td>\n",
       "      <td>1</td>\n",
       "    </tr>\n",
       "  </tbody>\n",
       "</table>\n",
       "</div>"
      ],
      "text/plain": [
       "Actor      Harrison Ford  Sean Connery  Tom Cruise  Al Pacino  Madeline Kahn  \\\n",
       "Hit Years              6             3           2          1              1   \n",
       "\n",
       "Actor      Maggie Smith  Maurice Evans  Michael Douglas  Ned Beatty  \\\n",
       "Hit Years             1              1                1           1   \n",
       "\n",
       "Actor      Orlando Bloom  Phil Harris  Richard Burton  Richard Dreyfuss  \\\n",
       "Hit Years              1            1               1                 1   \n",
       "\n",
       "Actor      Robbie Coltrane  Kevin Costner  Robert Redford  Rod Taylor  \\\n",
       "Hit Years                1              1               1           1   \n",
       "\n",
       "Actor      Roger Moore  Sam Worthington  Samuel L. Jackson  Sandra Bullock  \\\n",
       "Hit Years            1                1                  1               1   \n",
       "\n",
       "Actor      Sylvester Stallone  Tom Hanks  Laura Dern  Kate Winslet  \\\n",
       "Hit Years                   1          1           1             1   \n",
       "\n",
       "Actor      Alec Guinness  Ellen Burstyn  Ali MacGraw  Barbra Streisand  \\\n",
       "Hit Years              1              1            1                 1   \n",
       "\n",
       "Actor      Ben Kingsley  Ben Stiller  Bill Nighy  Cate Blanchett  \\\n",
       "Hit Years             1            1           1               1   \n",
       "\n",
       "Actor      Chris Hemsworth  Christopher Plummer  Drew Barrymore  \\\n",
       "Hit Years                1                    1               1   \n",
       "\n",
       "Actor      Ewan McGregor  Kate Capshaw  Helen Hunt  Helena Bonham Carter  \\\n",
       "Hit Years              1             1           1                     1   \n",
       "\n",
       "Actor      Ian McDiarmid  Ian McKellen  James Earl Jones  Jean Simmons  \\\n",
       "Hit Years              1             1                 1             1   \n",
       "\n",
       "Actor      Joe Pesci  Johnny Depp  Julia Roberts  Will Smith  \n",
       "Hit Years          1            1              1           1  "
      ]
     },
     "execution_count": 39,
     "metadata": {},
     "output_type": "execute_result"
    }
   ],
   "source": [
    "rank(Actor_Revenue,1,1,[\"Actor\",\"Hit Years\"])"
   ]
  },
  {
   "cell_type": "code",
   "execution_count": 40,
   "metadata": {},
   "outputs": [
    {
     "data": {
      "image/png": "[encoded data removed]",
      "text/plain": [
       "<matplotlib.figure.Figure at 0x7f5af4485da0>"
      ]
     },
     "metadata": {
      "needs_background": "light"
     },
     "output_type": "display_data"
    }
   ],
   "source": [
    "Pldata=rank(Actor_Revenue,1,1,[\"Actor\",\"Hit Years\"]).values.tolist()[0]\n",
    "Plidx=rank(Actor_Revenue,1,1,[\"Actor\",\"Hit Years\"]).columns\n",
    "myPlot({\"kind\":\"bar\",\"data\":Pldata,\"categories\":Plidx,\"figsize\":(9,3),\"color\":\"red\",\n",
    "       \"labels\":[\"Hit Years\",\"Actor\"],\"title\":\"Actors hit years\"})"
   ]
  },
  {
   "cell_type": "markdown",
   "metadata": {},
   "source": [
    ">>### <font color=green>So, except for Harrison Ford, Sean Connery, and Tom Cruise the rest of Actors/Actresses names appeared onetime only in top grossing</u></font> "
   ]
  },
  {
   "cell_type": "markdown",
   "metadata": {},
   "source": [
    ">### Q2.2) Who are the top grossing Directors?<br>\n",
    ">to answer this question we will create the main pivot tables **Director_Revenue**, its values are the sum of movies revenue for each director<br>\n"
   ]
  },
  {
   "cell_type": "code",
   "execution_count": 41,
   "metadata": {},
   "outputs": [],
   "source": [
    "Director_Revenue=Pivot_Table('d','revenue_adj')"
   ]
  },
  {
   "cell_type": "markdown",
   "metadata": {},
   "source": [
    ">let's check the most grossing Directors over the period from 1960 to 2015 by calling **rank()** function with the suitable parameters as follows:"
   ]
  },
  {
   "cell_type": "code",
   "execution_count": 42,
   "metadata": {
    "scrolled": true
   },
   "outputs": [
    {
     "data": {
      "text/html": [
       "<div>\n",
       "<style scoped>\n",
       "    .dataframe tbody tr th:only-of-type {\n",
       "        vertical-align: middle;\n",
       "    }\n",
       "\n",
       "    .dataframe tbody tr th {\n",
       "        vertical-align: top;\n",
       "    }\n",
       "\n",
       "    .dataframe thead th {\n",
       "        text-align: right;\n",
       "    }\n",
       "</style>\n",
       "<table border=\"1\" class=\"dataframe\">\n",
       "  <thead>\n",
       "    <tr style=\"text-align: right;\">\n",
       "      <th>Director</th>\n",
       "      <th>Steven Spielberg</th>\n",
       "      <th>James Cameron</th>\n",
       "      <th>George Lucas</th>\n",
       "      <th>Wolfgang Reitherman</th>\n",
       "      <th>William Friedkin</th>\n",
       "      <th>Gore Verbinski</th>\n",
       "      <th>Peter Jackson</th>\n",
       "      <th>J.J. Abrams</th>\n",
       "      <th>Irwin Winkler</th>\n",
       "      <th>Robert Zemeckis</th>\n",
       "      <th>Guy Hamilton</th>\n",
       "      <th>Joss Whedon</th>\n",
       "      <th>Irvin Kershner</th>\n",
       "      <th>Lana Wachowski</th>\n",
       "      <th>David Yates</th>\n",
       "      <th>Francis Ford Coppola</th>\n",
       "      <th>Richard Marquand</th>\n",
       "      <th>Chris Columbus</th>\n",
       "      <th>Chris Buck</th>\n",
       "      <th>Rob Minkoff</th>\n",
       "      <th>Roland Emmerich</th>\n",
       "      <th>Robert Wise</th>\n",
       "      <th>Lee Unkrich</th>\n",
       "      <th>Conrad Vernon</th>\n",
       "      <th>Christopher Nolan</th>\n",
       "      <th>Richard Donner</th>\n",
       "      <th>Mike Newell</th>\n",
       "      <th>Mel Brooks</th>\n",
       "      <th>Jerry Zucker</th>\n",
       "      <th>Stanley Kubrick</th>\n",
       "      <th>Ron Clements</th>\n",
       "      <th>Arthur Hiller</th>\n",
       "      <th>Michael Bay</th>\n",
       "      <th>Tony Scott</th>\n",
       "      <th>Barry Levinson</th>\n",
       "      <th>Lewis Gilbert</th>\n",
       "      <th>Frank Pierson</th>\n",
       "      <th>Adrian Lyne</th>\n",
       "      <th>George Roy Hill</th>\n",
       "      <th>Terence Young</th>\n",
       "      <th>David Lean</th>\n",
       "      <th>Mike Nichols</th>\n",
       "    </tr>\n",
       "  </thead>\n",
       "  <tbody>\n",
       "    <tr>\n",
       "      <th>Gross Profit</th>\n",
       "      <td>8,171,065,411.06</td>\n",
       "      <td>6,166,097,763.64</td>\n",
       "      <td>3,999,692,772.73</td>\n",
       "      <td>2,920,365,798.69</td>\n",
       "      <td>2,167,324,901.20</td>\n",
       "      <td>2,163,344,859.78</td>\n",
       "      <td>2,002,654,743.56</td>\n",
       "      <td>1,902,723,129.80</td>\n",
       "      <td>1,583,049,536.35</td>\n",
       "      <td>1,513,475,846.93</td>\n",
       "      <td>1,502,763,009.62</td>\n",
       "      <td>1,443,191,435.21</td>\n",
       "      <td>1,424,626,187.77</td>\n",
       "      <td>1,379,262,008.93</td>\n",
       "      <td>1,287,183,997.56</td>\n",
       "      <td>1,277,913,732.39</td>\n",
       "      <td>1,253,818,981.12</td>\n",
       "      <td>1,202,518,036.07</td>\n",
       "      <td>1,192,711,491.12</td>\n",
       "      <td>1,159,591,590.01</td>\n",
       "      <td>1,135,764,351.59</td>\n",
       "      <td>1,129,534,861.99</td>\n",
       "      <td>1,063,171,911.00</td>\n",
       "      <td>1,061,903,622.74</td>\n",
       "      <td>1,014,733,032.48</td>\n",
       "      <td>1,003,538,977.39</td>\n",
       "      <td>1,000,352,539.23</td>\n",
       "      <td>909,988,095.21</td>\n",
       "      <td>842,793,762.86</td>\n",
       "      <td>797,924,644.64</td>\n",
       "      <td>783,306,265.86</td>\n",
       "      <td>766,072,642.11</td>\n",
       "      <td>740,815,170.22</td>\n",
       "      <td>709,881,085.22</td>\n",
       "      <td>654,259,434.36</td>\n",
       "      <td>631,857,706.73</td>\n",
       "      <td>616,903,382.58</td>\n",
       "      <td>614,385,336.77</td>\n",
       "      <td>608,151,066.34</td>\n",
       "      <td>561,773,358.99</td>\n",
       "      <td>504,591,421.51</td>\n",
       "      <td>226,643,572.37</td>\n",
       "    </tr>\n",
       "  </tbody>\n",
       "</table>\n",
       "</div>"
      ],
      "text/plain": [
       "Director      Steven Spielberg    James Cameron     George Lucas  \\\n",
       "Gross Profit  8,171,065,411.06 6,166,097,763.64 3,999,692,772.73   \n",
       "\n",
       "Director      Wolfgang Reitherman  William Friedkin   Gore Verbinski  \\\n",
       "Gross Profit     2,920,365,798.69  2,167,324,901.20 2,163,344,859.78   \n",
       "\n",
       "Director        Peter Jackson      J.J. Abrams    Irwin Winkler  \\\n",
       "Gross Profit 2,002,654,743.56 1,902,723,129.80 1,583,049,536.35   \n",
       "\n",
       "Director      Robert Zemeckis     Guy Hamilton      Joss Whedon  \\\n",
       "Gross Profit 1,513,475,846.93 1,502,763,009.62 1,443,191,435.21   \n",
       "\n",
       "Director       Irvin Kershner   Lana Wachowski      David Yates  \\\n",
       "Gross Profit 1,424,626,187.77 1,379,262,008.93 1,287,183,997.56   \n",
       "\n",
       "Director      Francis Ford Coppola  Richard Marquand   Chris Columbus  \\\n",
       "Gross Profit      1,277,913,732.39  1,253,818,981.12 1,202,518,036.07   \n",
       "\n",
       "Director           Chris Buck      Rob Minkoff  Roland Emmerich  \\\n",
       "Gross Profit 1,192,711,491.12 1,159,591,590.01 1,135,764,351.59   \n",
       "\n",
       "Director          Robert Wise      Lee Unkrich    Conrad Vernon  \\\n",
       "Gross Profit 1,129,534,861.99 1,063,171,911.00 1,061,903,622.74   \n",
       "\n",
       "Director      Christopher Nolan   Richard Donner      Mike Newell  \\\n",
       "Gross Profit   1,014,733,032.48 1,003,538,977.39 1,000,352,539.23   \n",
       "\n",
       "Director         Mel Brooks   Jerry Zucker  Stanley Kubrick   Ron Clements  \\\n",
       "Gross Profit 909,988,095.21 842,793,762.86   797,924,644.64 783,306,265.86   \n",
       "\n",
       "Director      Arthur Hiller    Michael Bay     Tony Scott  Barry Levinson  \\\n",
       "Gross Profit 766,072,642.11 740,815,170.22 709,881,085.22  654,259,434.36   \n",
       "\n",
       "Director      Lewis Gilbert  Frank Pierson    Adrian Lyne  George Roy Hill  \\\n",
       "Gross Profit 631,857,706.73 616,903,382.58 614,385,336.77   608,151,066.34   \n",
       "\n",
       "Director      Terence Young     David Lean   Mike Nichols  \n",
       "Gross Profit 561,773,358.99 504,591,421.51 226,643,572.37  "
      ]
     },
     "execution_count": 42,
     "metadata": {},
     "output_type": "execute_result"
    }
   ],
   "source": [
    "rank(Director_Revenue,1,0,[\"Director\",\"Gross Profit\"])"
   ]
  },
  {
   "cell_type": "code",
   "execution_count": 43,
   "metadata": {},
   "outputs": [
    {
     "data": {
      "image/png": "[encoded data removed]",
      "text/plain": [
       "<matplotlib.figure.Figure at 0x7f5af3b50d30>"
      ]
     },
     "metadata": {
      "needs_background": "light"
     },
     "output_type": "display_data"
    }
   ],
   "source": [
    "Pldata=rank(Director_Revenue,1,0,[\"Director\",\"Gross Profit\"]).values.tolist()[0]\n",
    "Plidx=rank(Director_Revenue,1,0,[\"Director\",\"Gross Profit\"]).columns\n",
    "myPlot({\"kind\":\"bar\",\"data\":Pldata,\"categories\":Plidx,\"figsize\":(9,3),\"color\":\"indigo\",\n",
    "       \"labels\":[\"Gross Profit\",\"Director\"],\"title\":\"Director vs. Revenue_adj\"})"
   ]
  },
  {
   "cell_type": "code",
   "execution_count": 44,
   "metadata": {
    "scrolled": true
   },
   "outputs": [
    {
     "data": {
      "text/html": [
       "<div>\n",
       "<style scoped>\n",
       "    .dataframe tbody tr th:only-of-type {\n",
       "        vertical-align: middle;\n",
       "    }\n",
       "\n",
       "    .dataframe tbody tr th {\n",
       "        vertical-align: top;\n",
       "    }\n",
       "\n",
       "    .dataframe thead th {\n",
       "        text-align: right;\n",
       "    }\n",
       "</style>\n",
       "<table border=\"1\" class=\"dataframe\">\n",
       "  <thead>\n",
       "    <tr style=\"text-align: right;\">\n",
       "      <th>Director</th>\n",
       "      <th>Steven Spielberg</th>\n",
       "      <th>James Cameron</th>\n",
       "      <th>Wolfgang Reitherman</th>\n",
       "      <th>Robert Zemeckis</th>\n",
       "      <th>Peter Jackson</th>\n",
       "      <th>Guy Hamilton</th>\n",
       "      <th>Gore Verbinski</th>\n",
       "      <th>George Lucas</th>\n",
       "      <th>Stanley Kubrick</th>\n",
       "      <th>Roland Emmerich</th>\n",
       "      <th>Ron Clements</th>\n",
       "      <th>Robert Wise</th>\n",
       "      <th>Lewis Gilbert</th>\n",
       "      <th>Rob Minkoff</th>\n",
       "      <th>Terence Young</th>\n",
       "      <th>Richard Marquand</th>\n",
       "      <th>Richard Donner</th>\n",
       "      <th>Tony Scott</th>\n",
       "      <th>William Friedkin</th>\n",
       "      <th>Mike Nichols</th>\n",
       "      <th>Mike Newell</th>\n",
       "      <th>Michael Bay</th>\n",
       "      <th>Mel Brooks</th>\n",
       "      <th>Adrian Lyne</th>\n",
       "      <th>Lee Unkrich</th>\n",
       "      <th>Arthur Hiller</th>\n",
       "      <th>Barry Levinson</th>\n",
       "      <th>Chris Buck</th>\n",
       "      <th>Chris Columbus</th>\n",
       "      <th>Christopher Nolan</th>\n",
       "      <th>Conrad Vernon</th>\n",
       "      <th>David Lean</th>\n",
       "      <th>David Yates</th>\n",
       "      <th>Francis Ford Coppola</th>\n",
       "      <th>Frank Pierson</th>\n",
       "      <th>George Roy Hill</th>\n",
       "      <th>Irvin Kershner</th>\n",
       "      <th>Irwin Winkler</th>\n",
       "      <th>J.J. Abrams</th>\n",
       "      <th>Jerry Zucker</th>\n",
       "      <th>Joss Whedon</th>\n",
       "      <th>Lana Wachowski</th>\n",
       "    </tr>\n",
       "  </thead>\n",
       "  <tbody>\n",
       "    <tr>\n",
       "      <th>Hit years</th>\n",
       "      <td>6</td>\n",
       "      <td>3</td>\n",
       "      <td>2</td>\n",
       "      <td>2</td>\n",
       "      <td>2</td>\n",
       "      <td>2</td>\n",
       "      <td>2</td>\n",
       "      <td>2</td>\n",
       "      <td>2</td>\n",
       "      <td>1</td>\n",
       "      <td>1</td>\n",
       "      <td>1</td>\n",
       "      <td>1</td>\n",
       "      <td>1</td>\n",
       "      <td>1</td>\n",
       "      <td>1</td>\n",
       "      <td>1</td>\n",
       "      <td>1</td>\n",
       "      <td>1</td>\n",
       "      <td>1</td>\n",
       "      <td>1</td>\n",
       "      <td>1</td>\n",
       "      <td>1</td>\n",
       "      <td>1</td>\n",
       "      <td>1</td>\n",
       "      <td>1</td>\n",
       "      <td>1</td>\n",
       "      <td>1</td>\n",
       "      <td>1</td>\n",
       "      <td>1</td>\n",
       "      <td>1</td>\n",
       "      <td>1</td>\n",
       "      <td>1</td>\n",
       "      <td>1</td>\n",
       "      <td>1</td>\n",
       "      <td>1</td>\n",
       "      <td>1</td>\n",
       "      <td>1</td>\n",
       "      <td>1</td>\n",
       "      <td>1</td>\n",
       "      <td>1</td>\n",
       "      <td>1</td>\n",
       "    </tr>\n",
       "  </tbody>\n",
       "</table>\n",
       "</div>"
      ],
      "text/plain": [
       "Director   Steven Spielberg  James Cameron  Wolfgang Reitherman  \\\n",
       "Hit years                 6              3                    2   \n",
       "\n",
       "Director   Robert Zemeckis  Peter Jackson  Guy Hamilton  Gore Verbinski  \\\n",
       "Hit years                2              2             2               2   \n",
       "\n",
       "Director   George Lucas  Stanley Kubrick  Roland Emmerich  Ron Clements  \\\n",
       "Hit years             2                2                1             1   \n",
       "\n",
       "Director   Robert Wise  Lewis Gilbert  Rob Minkoff  Terence Young  \\\n",
       "Hit years            1              1            1              1   \n",
       "\n",
       "Director   Richard Marquand  Richard Donner  Tony Scott  William Friedkin  \\\n",
       "Hit years                 1               1           1                 1   \n",
       "\n",
       "Director   Mike Nichols  Mike Newell  Michael Bay  Mel Brooks  Adrian Lyne  \\\n",
       "Hit years             1            1            1           1            1   \n",
       "\n",
       "Director   Lee Unkrich  Arthur Hiller  Barry Levinson  Chris Buck  \\\n",
       "Hit years            1              1               1           1   \n",
       "\n",
       "Director   Chris Columbus  Christopher Nolan  Conrad Vernon  David Lean  \\\n",
       "Hit years               1                  1              1           1   \n",
       "\n",
       "Director   David Yates  Francis Ford Coppola  Frank Pierson  George Roy Hill  \\\n",
       "Hit years            1                     1              1                1   \n",
       "\n",
       "Director   Irvin Kershner  Irwin Winkler  J.J. Abrams  Jerry Zucker  \\\n",
       "Hit years               1              1            1             1   \n",
       "\n",
       "Director   Joss Whedon  Lana Wachowski  \n",
       "Hit years            1               1  "
      ]
     },
     "execution_count": 44,
     "metadata": {},
     "output_type": "execute_result"
    }
   ],
   "source": [
    "rank(Director_Revenue,1,1,[\"Director\",\"Hit years\"])"
   ]
  },
  {
   "cell_type": "code",
   "execution_count": 45,
   "metadata": {},
   "outputs": [
    {
     "data": {
      "image/png": "[encoded data removed]",
      "text/plain": [
       "<matplotlib.figure.Figure at 0x7f5af3a60278>"
      ]
     },
     "metadata": {
      "needs_background": "light"
     },
     "output_type": "display_data"
    }
   ],
   "source": [
    "Pldata=rank(Director_Revenue,1,1,[\"Director\",\"Hit years\"]).values.tolist()[0]\n",
    "Plidx=rank(Director_Revenue,1,1,[\"Director\",\"Hit years\"]).columns\n",
    "myPlot({\"kind\":\"bar\",\"data\":Pldata,\"categories\":Plidx,\"figsize\":(9,3),\"color\":\"orchid\",\n",
    "       \"labels\":[\"Hit Years\",\"Director\"],\"title\":\"Director Hit Years\"})"
   ]
  },
  {
   "cell_type": "markdown",
   "metadata": {},
   "source": [
    ">>### <font color=green>So, to have a movie with high revenue the production studios almost hire one of the above ِdirectors especially <u>Steven Spielberg, James Cameron, or George Lucas.</u></font> "
   ]
  },
  {
   "cell_type": "markdown",
   "metadata": {},
   "source": [
    ">### Q2.3) What are the top Production Studios?<br>\n",
    ">to answer this question we will create the main pivot tables **Studio_Revenue**, its values are the sum of movies revenue for each studio<br>"
   ]
  },
  {
   "cell_type": "code",
   "execution_count": 46,
   "metadata": {},
   "outputs": [],
   "source": [
    "Studio_Revenue=Pivot_Table('s','revenue_adj')"
   ]
  },
  {
   "cell_type": "markdown",
   "metadata": {},
   "source": [
    ">Now we check the most grossing Studios over the period from 1960 to 2015 by calling **rank()** function with the suitable parameters as follows:"
   ]
  },
  {
   "cell_type": "code",
   "execution_count": 47,
   "metadata": {
    "scrolled": false
   },
   "outputs": [
    {
     "data": {
      "text/html": [
       "<div>\n",
       "<style scoped>\n",
       "    .dataframe tbody tr th:only-of-type {\n",
       "        vertical-align: middle;\n",
       "    }\n",
       "\n",
       "    .dataframe tbody tr th {\n",
       "        vertical-align: top;\n",
       "    }\n",
       "\n",
       "    .dataframe thead th {\n",
       "        text-align: right;\n",
       "    }\n",
       "</style>\n",
       "<table border=\"1\" class=\"dataframe\">\n",
       "  <thead>\n",
       "    <tr style=\"text-align: right;\">\n",
       "      <th>Studio</th>\n",
       "      <th>Warner Bros.</th>\n",
       "      <th>Universal Pictures</th>\n",
       "      <th>Paramount Pictures</th>\n",
       "      <th>Twentieth Century Fox Film Corporation</th>\n",
       "      <th>Walt Disney Pictures</th>\n",
       "      <th>Columbia Pictures</th>\n",
       "      <th>Metro-Goldwyn-Mayer (MGM)</th>\n",
       "      <th>Dune Entertainment</th>\n",
       "      <th>Relativity Media</th>\n",
       "      <th>Touchstone Pictures</th>\n",
       "      <th>DreamWorks SKG</th>\n",
       "      <th>Walt Disney Productions</th>\n",
       "      <th>Lucasfilm</th>\n",
       "      <th>Crossbow Productions</th>\n",
       "      <th>Carolco Pictures</th>\n",
       "      <th>United Artists</th>\n",
       "      <th>Danjaq</th>\n",
       "      <th>Bryna Productions</th>\n",
       "      <th>Chenault Productions</th>\n",
       "    </tr>\n",
       "  </thead>\n",
       "  <tbody>\n",
       "    <tr>\n",
       "      <th>Gross Profit</th>\n",
       "      <td>28,068,760,284.24</td>\n",
       "      <td>16,184,361,302.06</td>\n",
       "      <td>13,989,969,221.97</td>\n",
       "      <td>11,483,889,978.01</td>\n",
       "      <td>7,780,504,363.46</td>\n",
       "      <td>5,679,152,831.17</td>\n",
       "      <td>4,727,712,527.09</td>\n",
       "      <td>3,789,622,713.18</td>\n",
       "      <td>3,131,871,306.62</td>\n",
       "      <td>3,039,737,867.95</td>\n",
       "      <td>2,225,165,522.11</td>\n",
       "      <td>1,574,814,739.70</td>\n",
       "      <td>1,424,626,187.77</td>\n",
       "      <td>909,988,095.21</td>\n",
       "      <td>887,672,918.83</td>\n",
       "      <td>715,029,178.73</td>\n",
       "      <td>561,773,358.99</td>\n",
       "      <td>442,378,047.43</td>\n",
       "      <td>226,643,572.37</td>\n",
       "    </tr>\n",
       "  </tbody>\n",
       "</table>\n",
       "</div>"
      ],
      "text/plain": [
       "Studio            Warner Bros.  Universal Pictures  Paramount Pictures  \\\n",
       "Gross Profit 28,068,760,284.24   16,184,361,302.06   13,989,969,221.97   \n",
       "\n",
       "Studio        Twentieth Century Fox Film Corporation  Walt Disney Pictures  \\\n",
       "Gross Profit                       11,483,889,978.01      7,780,504,363.46   \n",
       "\n",
       "Studio        Columbia Pictures  Metro-Goldwyn-Mayer (MGM)  \\\n",
       "Gross Profit   5,679,152,831.17           4,727,712,527.09   \n",
       "\n",
       "Studio        Dune Entertainment  Relativity Media  Touchstone Pictures  \\\n",
       "Gross Profit    3,789,622,713.18  3,131,871,306.62     3,039,737,867.95   \n",
       "\n",
       "Studio         DreamWorks SKG  Walt Disney Productions        Lucasfilm  \\\n",
       "Gross Profit 2,225,165,522.11         1,574,814,739.70 1,424,626,187.77   \n",
       "\n",
       "Studio        Crossbow Productions  Carolco Pictures  United Artists  \\\n",
       "Gross Profit        909,988,095.21    887,672,918.83  715,029,178.73   \n",
       "\n",
       "Studio               Danjaq  Bryna Productions  Chenault Productions  \n",
       "Gross Profit 561,773,358.99     442,378,047.43        226,643,572.37  "
      ]
     },
     "execution_count": 47,
     "metadata": {},
     "output_type": "execute_result"
    }
   ],
   "source": [
    "rank(Studio_Revenue,1,0,[\"Studio\",\"Gross Profit\"])"
   ]
  },
  {
   "cell_type": "code",
   "execution_count": 48,
   "metadata": {},
   "outputs": [
    {
     "data": {
      "image/png": "[encoded data removed]",
      "text/plain": [
       "<matplotlib.figure.Figure at 0x7f5af3b17f98>"
      ]
     },
     "metadata": {
      "needs_background": "light"
     },
     "output_type": "display_data"
    }
   ],
   "source": [
    "Pldata=rank(Studio_Revenue,1,0,[\"Studio\",\"Gross Profit\"]).values.tolist()[0]\n",
    "Plidx=rank(Studio_Revenue,1,0,[\"Studio\",\"Gross Profit\"]).columns\n",
    "myPlot({\"kind\":\"bar\",\"data\":Pldata,\"categories\":Plidx,\"figsize\":(9,3),\"color\":\"tomato\",\n",
    "       \"labels\":[\"Gross Profit\",\"Studio\"],\"title\":\"Director vs. Revenue_adj\"})"
   ]
  },
  {
   "cell_type": "code",
   "execution_count": 56,
   "metadata": {},
   "outputs": [
    {
     "data": {
      "text/html": [
       "<div>\n",
       "<style scoped>\n",
       "    .dataframe tbody tr th:only-of-type {\n",
       "        vertical-align: middle;\n",
       "    }\n",
       "\n",
       "    .dataframe tbody tr th {\n",
       "        vertical-align: top;\n",
       "    }\n",
       "\n",
       "    .dataframe thead th {\n",
       "        text-align: right;\n",
       "    }\n",
       "</style>\n",
       "<table border=\"1\" class=\"dataframe\">\n",
       "  <thead>\n",
       "    <tr style=\"text-align: right;\">\n",
       "      <th>Studio</th>\n",
       "      <th>Warner Bros.</th>\n",
       "      <th>Paramount Pictures</th>\n",
       "      <th>Universal Pictures</th>\n",
       "      <th>Twentieth Century Fox Film Corporation</th>\n",
       "      <th>Metro-Goldwyn-Mayer (MGM)</th>\n",
       "      <th>Walt Disney Pictures</th>\n",
       "      <th>Touchstone Pictures</th>\n",
       "      <th>Columbia Pictures</th>\n",
       "      <th>Danjaq</th>\n",
       "      <th>DreamWorks SKG</th>\n",
       "      <th>Dune Entertainment</th>\n",
       "      <th>Lucasfilm</th>\n",
       "      <th>Carolco Pictures</th>\n",
       "      <th>Crossbow Productions</th>\n",
       "      <th>Relativity Media</th>\n",
       "      <th>United Artists</th>\n",
       "      <th>Chenault Productions</th>\n",
       "      <th>Walt Disney Productions</th>\n",
       "      <th>Bryna Productions</th>\n",
       "    </tr>\n",
       "  </thead>\n",
       "  <tbody>\n",
       "    <tr>\n",
       "      <th>Hit Years</th>\n",
       "      <td>11</td>\n",
       "      <td>8</td>\n",
       "      <td>8</td>\n",
       "      <td>6</td>\n",
       "      <td>5</td>\n",
       "      <td>3</td>\n",
       "      <td>2</td>\n",
       "      <td>2</td>\n",
       "      <td>1</td>\n",
       "      <td>1</td>\n",
       "      <td>1</td>\n",
       "      <td>1</td>\n",
       "      <td>1</td>\n",
       "      <td>1</td>\n",
       "      <td>1</td>\n",
       "      <td>1</td>\n",
       "      <td>1</td>\n",
       "      <td>1</td>\n",
       "      <td>1</td>\n",
       "    </tr>\n",
       "  </tbody>\n",
       "</table>\n",
       "</div>"
      ],
      "text/plain": [
       "Studio     Warner Bros.  Paramount Pictures  Universal Pictures  \\\n",
       "Hit Years            11                   8                   8   \n",
       "\n",
       "Studio     Twentieth Century Fox Film Corporation  Metro-Goldwyn-Mayer (MGM)  \\\n",
       "Hit Years                                       6                          5   \n",
       "\n",
       "Studio     Walt Disney Pictures  Touchstone Pictures  Columbia Pictures  \\\n",
       "Hit Years                     3                    2                  2   \n",
       "\n",
       "Studio     Danjaq  DreamWorks SKG  Dune Entertainment  Lucasfilm  \\\n",
       "Hit Years       1               1                   1          1   \n",
       "\n",
       "Studio     Carolco Pictures  Crossbow Productions  Relativity Media  \\\n",
       "Hit Years                 1                     1                 1   \n",
       "\n",
       "Studio     United Artists  Chenault Productions  Walt Disney Productions  \\\n",
       "Hit Years               1                     1                        1   \n",
       "\n",
       "Studio     Bryna Productions  \n",
       "Hit Years                  1  "
      ]
     },
     "execution_count": 56,
     "metadata": {},
     "output_type": "execute_result"
    }
   ],
   "source": [
    "rank(Studio_Revenue,1,1,[\"Studio\",\"Hit Years\"])"
   ]
  },
  {
   "cell_type": "code",
   "execution_count": 50,
   "metadata": {},
   "outputs": [
    {
     "data": {
      "image/png": "[encoded data removed]",
      "text/plain": [
       "<matplotlib.figure.Figure at 0x7f5af04e1518>"
      ]
     },
     "metadata": {
      "needs_background": "light"
     },
     "output_type": "display_data"
    }
   ],
   "source": [
    "Pldata=rank(Studio_Revenue,1,1,[\"Studio\",\"Gross Profit\"]).values.tolist()[0]\n",
    "Plidx=rank(Studio_Revenue,1,1,[\"Studio\",\"Gross Profit\"]).columns\n",
    "myPlot({\"kind\":\"bar\",\"data\":Pldata,\"categories\":Plidx,\"figsize\":(9,3),\"color\":\"orangered\",\n",
    "       \"labels\":[\"Hit Years\",\"Studio\"],\"title\":\"Studio Hit Years\"})"
   ]
  },
  {
   "cell_type": "markdown",
   "metadata": {},
   "source": [
    ">>### <font color=green>So, to have a movie with high revenue the production studio is almost one of the above studios especially <u>Warner Bros., Universal Pictures, or Paramount Pictures.</u></font> "
   ]
  },
  {
   "cell_type": "markdown",
   "metadata": {},
   "source": [
    ">### Q2.4) What are the best months to release a movie?<br>\n",
    ">to answer this question we will create the main pivot tables **Month_Revenue**, its values are the sum of movies revenue for each month<br>"
   ]
  },
  {
   "cell_type": "code",
   "execution_count": 51,
   "metadata": {},
   "outputs": [],
   "source": [
    "Month_Revenue=Pivot_Table('m','revenue_adj')"
   ]
  },
  {
   "cell_type": "markdown",
   "metadata": {},
   "source": [
    ">Now we check the best months to release high revenue movies over the period from 1960 to 2015 by calling **rank()** function with the suitable parameters as follows:"
   ]
  },
  {
   "cell_type": "code",
   "execution_count": 52,
   "metadata": {
    "scrolled": true
   },
   "outputs": [
    {
     "data": {
      "text/html": [
       "<div>\n",
       "<style scoped>\n",
       "    .dataframe tbody tr th:only-of-type {\n",
       "        vertical-align: middle;\n",
       "    }\n",
       "\n",
       "    .dataframe tbody tr th {\n",
       "        vertical-align: top;\n",
       "    }\n",
       "\n",
       "    .dataframe thead th {\n",
       "        text-align: right;\n",
       "    }\n",
       "</style>\n",
       "<table border=\"1\" class=\"dataframe\">\n",
       "  <thead>\n",
       "    <tr style=\"text-align: right;\">\n",
       "      <th>Month</th>\n",
       "      <th>June</th>\n",
       "      <th>December</th>\n",
       "      <th>May</th>\n",
       "      <th>July</th>\n",
       "      <th>November</th>\n",
       "      <th>September</th>\n",
       "      <th>April</th>\n",
       "      <th>January</th>\n",
       "      <th>March</th>\n",
       "      <th>October</th>\n",
       "    </tr>\n",
       "  </thead>\n",
       "  <tbody>\n",
       "    <tr>\n",
       "      <th>Gross Profit</th>\n",
       "      <td>17</td>\n",
       "      <td>16</td>\n",
       "      <td>5</td>\n",
       "      <td>4</td>\n",
       "      <td>3</td>\n",
       "      <td>3</td>\n",
       "      <td>2</td>\n",
       "      <td>2</td>\n",
       "      <td>2</td>\n",
       "      <td>2</td>\n",
       "    </tr>\n",
       "  </tbody>\n",
       "</table>\n",
       "</div>"
      ],
      "text/plain": [
       "Month         June  December  May  July  November  September  April  January  \\\n",
       "Gross Profit    17        16    5     4         3          3      2        2   \n",
       "\n",
       "Month         March  October  \n",
       "Gross Profit      2        2  "
      ]
     },
     "execution_count": 52,
     "metadata": {},
     "output_type": "execute_result"
    }
   ],
   "source": [
    "rank(Month_Revenue,1,1,[\"Month\",\"Gross Profit\"])"
   ]
  },
  {
   "cell_type": "code",
   "execution_count": 53,
   "metadata": {},
   "outputs": [
    {
     "data": {
      "image/png": "[encoded data removed]",
      "text/plain": [
       "<matplotlib.figure.Figure at 0x7f5af0479128>"
      ]
     },
     "metadata": {
      "needs_background": "light"
     },
     "output_type": "display_data"
    }
   ],
   "source": [
    "Pldata=rank(Month_Revenue,1,1,[\"Month\",\"Gross Profit\"]).values.tolist()[0]\n",
    "Plidx=rank(Month_Revenue,1,1,[\"Month\",\"Gross Profit\"]).columns\n",
    "myPlot({\"kind\":\"bar\",\"data\":Pldata,\"categories\":Plidx,\"figsize\":(5,3),\"color\":\"teal\",\n",
    "       \"labels\":[\"Month\",\"Gross Profit\"],\"title\":\"Month vs. Revenue_adj\"})"
   ]
  },
  {
   "cell_type": "markdown",
   "metadata": {},
   "source": [
    ">>### <font color=green>To guarantee the highest possible revenue the production studios should choose **summer vacation or christmas holidays** as shown above, the analysis shows that <u>June</u> is the most profitable month followed by <u>December</u>.</font>"
   ]
  },
  {
   "cell_type": "markdown",
   "metadata": {},
   "source": [
    "<a id='extra'></a>\n",
    "## Extra dataset mining:"
   ]
  },
  {
   "cell_type": "code",
   "execution_count": 54,
   "metadata": {
    "scrolled": false
   },
   "outputs": [
    {
     "data": {
      "text/html": [
       "<style  type=\"text/css\" >\n",
       "    #T_18d1b0c2_a464_11ed_abce_0242ac120002row0_col0 {\n",
       "            background-color:  #b40426;\n",
       "        }    #T_18d1b0c2_a464_11ed_abce_0242ac120002row0_col1 {\n",
       "            background-color:  #cad8ef;\n",
       "        }    #T_18d1b0c2_a464_11ed_abce_0242ac120002row0_col2 {\n",
       "            background-color:  #ead5c9;\n",
       "        }    #T_18d1b0c2_a464_11ed_abce_0242ac120002row0_col3 {\n",
       "            background-color:  #f6a385;\n",
       "        }    #T_18d1b0c2_a464_11ed_abce_0242ac120002row0_col4 {\n",
       "            background-color:  #c0d4f5;\n",
       "        }    #T_18d1b0c2_a464_11ed_abce_0242ac120002row0_col5 {\n",
       "            background-color:  #94b6ff;\n",
       "        }    #T_18d1b0c2_a464_11ed_abce_0242ac120002row0_col6 {\n",
       "            background-color:  #b9d0f9;\n",
       "        }    #T_18d1b0c2_a464_11ed_abce_0242ac120002row0_col7 {\n",
       "            background-color:  #f0cdbb;\n",
       "        }    #T_18d1b0c2_a464_11ed_abce_0242ac120002row1_col0 {\n",
       "            background-color:  #a9c6fd;\n",
       "        }    #T_18d1b0c2_a464_11ed_abce_0242ac120002row1_col1 {\n",
       "            background-color:  #b40426;\n",
       "        }    #T_18d1b0c2_a464_11ed_abce_0242ac120002row1_col2 {\n",
       "            background-color:  #f5c0a7;\n",
       "        }    #T_18d1b0c2_a464_11ed_abce_0242ac120002row1_col3 {\n",
       "            background-color:  #ccd9ed;\n",
       "        }    #T_18d1b0c2_a464_11ed_abce_0242ac120002row1_col4 {\n",
       "            background-color:  #6687ed;\n",
       "        }    #T_18d1b0c2_a464_11ed_abce_0242ac120002row1_col5 {\n",
       "            background-color:  #b1cbfc;\n",
       "        }    #T_18d1b0c2_a464_11ed_abce_0242ac120002row1_col6 {\n",
       "            background-color:  #c43032;\n",
       "        }    #T_18d1b0c2_a464_11ed_abce_0242ac120002row1_col7 {\n",
       "            background-color:  #eed0c0;\n",
       "        }    #T_18d1b0c2_a464_11ed_abce_0242ac120002row2_col0 {\n",
       "            background-color:  #e5d8d1;\n",
       "        }    #T_18d1b0c2_a464_11ed_abce_0242ac120002row2_col1 {\n",
       "            background-color:  #f7b396;\n",
       "        }    #T_18d1b0c2_a464_11ed_abce_0242ac120002row2_col2 {\n",
       "            background-color:  #b40426;\n",
       "        }    #T_18d1b0c2_a464_11ed_abce_0242ac120002row2_col3 {\n",
       "            background-color:  #f7b093;\n",
       "        }    #T_18d1b0c2_a464_11ed_abce_0242ac120002row2_col4 {\n",
       "            background-color:  #a5c3fe;\n",
       "        }    #T_18d1b0c2_a464_11ed_abce_0242ac120002row2_col5 {\n",
       "            background-color:  #89acfd;\n",
       "        }    #T_18d1b0c2_a464_11ed_abce_0242ac120002row2_col6 {\n",
       "            background-color:  #f6bfa6;\n",
       "        }    #T_18d1b0c2_a464_11ed_abce_0242ac120002row2_col7 {\n",
       "            background-color:  #d24b40;\n",
       "        }    #T_18d1b0c2_a464_11ed_abce_0242ac120002row3_col0 {\n",
       "            background-color:  #f5a081;\n",
       "        }    #T_18d1b0c2_a464_11ed_abce_0242ac120002row3_col1 {\n",
       "            background-color:  #e8d6cc;\n",
       "        }    #T_18d1b0c2_a464_11ed_abce_0242ac120002row3_col2 {\n",
       "            background-color:  #f7a688;\n",
       "        }    #T_18d1b0c2_a464_11ed_abce_0242ac120002row3_col3 {\n",
       "            background-color:  #b40426;\n",
       "        }    #T_18d1b0c2_a464_11ed_abce_0242ac120002row3_col4 {\n",
       "            background-color:  #d2dbe8;\n",
       "        }    #T_18d1b0c2_a464_11ed_abce_0242ac120002row3_col5 {\n",
       "            background-color:  #9fbfff;\n",
       "        }    #T_18d1b0c2_a464_11ed_abce_0242ac120002row3_col6 {\n",
       "            background-color:  #d7dce3;\n",
       "        }    #T_18d1b0c2_a464_11ed_abce_0242ac120002row3_col7 {\n",
       "            background-color:  #f7b194;\n",
       "        }    #T_18d1b0c2_a464_11ed_abce_0242ac120002row4_col0 {\n",
       "            background-color:  #7295f4;\n",
       "        }    #T_18d1b0c2_a464_11ed_abce_0242ac120002row4_col1 {\n",
       "            background-color:  #3b4cc0;\n",
       "        }    #T_18d1b0c2_a464_11ed_abce_0242ac120002row4_col2 {\n",
       "            background-color:  #5a78e4;\n",
       "        }    #T_18d1b0c2_a464_11ed_abce_0242ac120002row4_col3 {\n",
       "            background-color:  #85a8fc;\n",
       "        }    #T_18d1b0c2_a464_11ed_abce_0242ac120002row4_col4 {\n",
       "            background-color:  #b40426;\n",
       "        }    #T_18d1b0c2_a464_11ed_abce_0242ac120002row4_col5 {\n",
       "            background-color:  #3b4cc0;\n",
       "        }    #T_18d1b0c2_a464_11ed_abce_0242ac120002row4_col6 {\n",
       "            background-color:  #3b4cc0;\n",
       "        }    #T_18d1b0c2_a464_11ed_abce_0242ac120002row4_col7 {\n",
       "            background-color:  #aac7fd;\n",
       "        }    #T_18d1b0c2_a464_11ed_abce_0242ac120002row5_col0 {\n",
       "            background-color:  #3b4cc0;\n",
       "        }    #T_18d1b0c2_a464_11ed_abce_0242ac120002row5_col1 {\n",
       "            background-color:  #8caffe;\n",
       "        }    #T_18d1b0c2_a464_11ed_abce_0242ac120002row5_col2 {\n",
       "            background-color:  #3b4cc0;\n",
       "        }    #T_18d1b0c2_a464_11ed_abce_0242ac120002row5_col3 {\n",
       "            background-color:  #3b4cc0;\n",
       "        }    #T_18d1b0c2_a464_11ed_abce_0242ac120002row5_col4 {\n",
       "            background-color:  #3b4cc0;\n",
       "        }    #T_18d1b0c2_a464_11ed_abce_0242ac120002row5_col5 {\n",
       "            background-color:  #b40426;\n",
       "        }    #T_18d1b0c2_a464_11ed_abce_0242ac120002row5_col6 {\n",
       "            background-color:  #465ecf;\n",
       "        }    #T_18d1b0c2_a464_11ed_abce_0242ac120002row5_col7 {\n",
       "            background-color:  #3b4cc0;\n",
       "        }    #T_18d1b0c2_a464_11ed_abce_0242ac120002row6_col0 {\n",
       "            background-color:  #96b7ff;\n",
       "        }    #T_18d1b0c2_a464_11ed_abce_0242ac120002row6_col1 {\n",
       "            background-color:  #c32e31;\n",
       "        }    #T_18d1b0c2_a464_11ed_abce_0242ac120002row6_col2 {\n",
       "            background-color:  #f2cab5;\n",
       "        }    #T_18d1b0c2_a464_11ed_abce_0242ac120002row6_col3 {\n",
       "            background-color:  #b5cdfa;\n",
       "        }    #T_18d1b0c2_a464_11ed_abce_0242ac120002row6_col4 {\n",
       "            background-color:  #6a8bef;\n",
       "        }    #T_18d1b0c2_a464_11ed_abce_0242ac120002row6_col5 {\n",
       "            background-color:  #7699f6;\n",
       "        }    #T_18d1b0c2_a464_11ed_abce_0242ac120002row6_col6 {\n",
       "            background-color:  #b40426;\n",
       "        }    #T_18d1b0c2_a464_11ed_abce_0242ac120002row6_col7 {\n",
       "            background-color:  #f3c8b2;\n",
       "        }    #T_18d1b0c2_a464_11ed_abce_0242ac120002row7_col0 {\n",
       "            background-color:  #cfdaea;\n",
       "        }    #T_18d1b0c2_a464_11ed_abce_0242ac120002row7_col1 {\n",
       "            background-color:  #e2dad5;\n",
       "        }    #T_18d1b0c2_a464_11ed_abce_0242ac120002row7_col2 {\n",
       "            background-color:  #da5a49;\n",
       "        }    #T_18d1b0c2_a464_11ed_abce_0242ac120002row7_col3 {\n",
       "            background-color:  #ecd3c5;\n",
       "        }    #T_18d1b0c2_a464_11ed_abce_0242ac120002row7_col4 {\n",
       "            background-color:  #b1cbfc;\n",
       "        }    #T_18d1b0c2_a464_11ed_abce_0242ac120002row7_col5 {\n",
       "            background-color:  #4358cb;\n",
       "        }    #T_18d1b0c2_a464_11ed_abce_0242ac120002row7_col6 {\n",
       "            background-color:  #ead5c9;\n",
       "        }    #T_18d1b0c2_a464_11ed_abce_0242ac120002row7_col7 {\n",
       "            background-color:  #b40426;\n",
       "        }</style>  \n",
       "<table id=\"T_18d1b0c2_a464_11ed_abce_0242ac120002\" > \n",
       "<thead>    <tr> \n",
       "        <th class=\"blank level0\" ></th> \n",
       "        <th class=\"col_heading level0 col0\" >popularity</th> \n",
       "        <th class=\"col_heading level0 col1\" >budget</th> \n",
       "        <th class=\"col_heading level0 col2\" >revenue</th> \n",
       "        <th class=\"col_heading level0 col3\" >vote_count</th> \n",
       "        <th class=\"col_heading level0 col4\" >vote_average</th> \n",
       "        <th class=\"col_heading level0 col5\" >release_year</th> \n",
       "        <th class=\"col_heading level0 col6\" >budget_adj</th> \n",
       "        <th class=\"col_heading level0 col7\" >revenue_adj</th> \n",
       "    </tr></thead> \n",
       "<tbody>    <tr> \n",
       "        <th id=\"T_18d1b0c2_a464_11ed_abce_0242ac120002level0_row0\" class=\"row_heading level0 row0\" >popularity</th> \n",
       "        <td id=\"T_18d1b0c2_a464_11ed_abce_0242ac120002row0_col0\" class=\"data row0 col0\" >1</td> \n",
       "        <td id=\"T_18d1b0c2_a464_11ed_abce_0242ac120002row0_col1\" class=\"data row0 col1\" >0.45</td> \n",
       "        <td id=\"T_18d1b0c2_a464_11ed_abce_0242ac120002row0_col2\" class=\"data row0 col2\" >0.62</td> \n",
       "        <td id=\"T_18d1b0c2_a464_11ed_abce_0242ac120002row0_col3\" class=\"data row0 col3\" >0.78</td> \n",
       "        <td id=\"T_18d1b0c2_a464_11ed_abce_0242ac120002row0_col4\" class=\"data row0 col4\" >0.32</td> \n",
       "        <td id=\"T_18d1b0c2_a464_11ed_abce_0242ac120002row0_col5\" class=\"data row0 col5\" >0.17</td> \n",
       "        <td id=\"T_18d1b0c2_a464_11ed_abce_0242ac120002row0_col6\" class=\"data row0 col6\" >0.4</td> \n",
       "        <td id=\"T_18d1b0c2_a464_11ed_abce_0242ac120002row0_col7\" class=\"data row0 col7\" >0.55</td> \n",
       "    </tr>    <tr> \n",
       "        <th id=\"T_18d1b0c2_a464_11ed_abce_0242ac120002level0_row1\" class=\"row_heading level0 row1\" >budget</th> \n",
       "        <td id=\"T_18d1b0c2_a464_11ed_abce_0242ac120002row1_col0\" class=\"data row1 col0\" >0.45</td> \n",
       "        <td id=\"T_18d1b0c2_a464_11ed_abce_0242ac120002row1_col1\" class=\"data row1 col1\" >1</td> \n",
       "        <td id=\"T_18d1b0c2_a464_11ed_abce_0242ac120002row1_col2\" class=\"data row1 col2\" >0.69</td> \n",
       "        <td id=\"T_18d1b0c2_a464_11ed_abce_0242ac120002row1_col3\" class=\"data row1 col3\" >0.56</td> \n",
       "        <td id=\"T_18d1b0c2_a464_11ed_abce_0242ac120002row1_col4\" class=\"data row1 col4\" >0.024</td> \n",
       "        <td id=\"T_18d1b0c2_a464_11ed_abce_0242ac120002row1_col5\" class=\"data row1 col5\" >0.27</td> \n",
       "        <td id=\"T_18d1b0c2_a464_11ed_abce_0242ac120002row1_col6\" class=\"data row1 col6\" >0.96</td> \n",
       "        <td id=\"T_18d1b0c2_a464_11ed_abce_0242ac120002row1_col7\" class=\"data row1 col7\" >0.53</td> \n",
       "    </tr>    <tr> \n",
       "        <th id=\"T_18d1b0c2_a464_11ed_abce_0242ac120002level0_row2\" class=\"row_heading level0 row2\" >revenue</th> \n",
       "        <td id=\"T_18d1b0c2_a464_11ed_abce_0242ac120002row2_col0\" class=\"data row2 col0\" >0.62</td> \n",
       "        <td id=\"T_18d1b0c2_a464_11ed_abce_0242ac120002row2_col1\" class=\"data row2 col1\" >0.69</td> \n",
       "        <td id=\"T_18d1b0c2_a464_11ed_abce_0242ac120002row2_col2\" class=\"data row2 col2\" >1</td> \n",
       "        <td id=\"T_18d1b0c2_a464_11ed_abce_0242ac120002row2_col3\" class=\"data row2 col3\" >0.75</td> \n",
       "        <td id=\"T_18d1b0c2_a464_11ed_abce_0242ac120002row2_col4\" class=\"data row2 col4\" >0.23</td> \n",
       "        <td id=\"T_18d1b0c2_a464_11ed_abce_0242ac120002row2_col5\" class=\"data row2 col5\" >0.14</td> \n",
       "        <td id=\"T_18d1b0c2_a464_11ed_abce_0242ac120002row2_col6\" class=\"data row2 col6\" >0.66</td> \n",
       "        <td id=\"T_18d1b0c2_a464_11ed_abce_0242ac120002row2_col7\" class=\"data row2 col7\" >0.9</td> \n",
       "    </tr>    <tr> \n",
       "        <th id=\"T_18d1b0c2_a464_11ed_abce_0242ac120002level0_row3\" class=\"row_heading level0 row3\" >vote_count</th> \n",
       "        <td id=\"T_18d1b0c2_a464_11ed_abce_0242ac120002row3_col0\" class=\"data row3 col0\" >0.78</td> \n",
       "        <td id=\"T_18d1b0c2_a464_11ed_abce_0242ac120002row3_col1\" class=\"data row3 col1\" >0.56</td> \n",
       "        <td id=\"T_18d1b0c2_a464_11ed_abce_0242ac120002row3_col2\" class=\"data row3 col2\" >0.75</td> \n",
       "        <td id=\"T_18d1b0c2_a464_11ed_abce_0242ac120002row3_col3\" class=\"data row3 col3\" >1</td> \n",
       "        <td id=\"T_18d1b0c2_a464_11ed_abce_0242ac120002row3_col4\" class=\"data row3 col4\" >0.39</td> \n",
       "        <td id=\"T_18d1b0c2_a464_11ed_abce_0242ac120002row3_col5\" class=\"data row3 col5\" >0.21</td> \n",
       "        <td id=\"T_18d1b0c2_a464_11ed_abce_0242ac120002row3_col6\" class=\"data row3 col6\" >0.5</td> \n",
       "        <td id=\"T_18d1b0c2_a464_11ed_abce_0242ac120002row3_col7\" class=\"data row3 col7\" >0.65</td> \n",
       "    </tr>    <tr> \n",
       "        <th id=\"T_18d1b0c2_a464_11ed_abce_0242ac120002level0_row4\" class=\"row_heading level0 row4\" >vote_average</th> \n",
       "        <td id=\"T_18d1b0c2_a464_11ed_abce_0242ac120002row4_col0\" class=\"data row4 col0\" >0.32</td> \n",
       "        <td id=\"T_18d1b0c2_a464_11ed_abce_0242ac120002row4_col1\" class=\"data row4 col1\" >0.024</td> \n",
       "        <td id=\"T_18d1b0c2_a464_11ed_abce_0242ac120002row4_col2\" class=\"data row4 col2\" >0.23</td> \n",
       "        <td id=\"T_18d1b0c2_a464_11ed_abce_0242ac120002row4_col3\" class=\"data row4 col3\" >0.39</td> \n",
       "        <td id=\"T_18d1b0c2_a464_11ed_abce_0242ac120002row4_col4\" class=\"data row4 col4\" >1</td> \n",
       "        <td id=\"T_18d1b0c2_a464_11ed_abce_0242ac120002row4_col5\" class=\"data row4 col5\" >-0.13</td> \n",
       "        <td id=\"T_18d1b0c2_a464_11ed_abce_0242ac120002row4_col6\" class=\"data row4 col6\" >0.037</td> \n",
       "        <td id=\"T_18d1b0c2_a464_11ed_abce_0242ac120002row4_col7\" class=\"data row4 col7\" >0.27</td> \n",
       "    </tr>    <tr> \n",
       "        <th id=\"T_18d1b0c2_a464_11ed_abce_0242ac120002level0_row5\" class=\"row_heading level0 row5\" >release_year</th> \n",
       "        <td id=\"T_18d1b0c2_a464_11ed_abce_0242ac120002row5_col0\" class=\"data row5 col0\" >0.17</td> \n",
       "        <td id=\"T_18d1b0c2_a464_11ed_abce_0242ac120002row5_col1\" class=\"data row5 col1\" >0.27</td> \n",
       "        <td id=\"T_18d1b0c2_a464_11ed_abce_0242ac120002row5_col2\" class=\"data row5 col2\" >0.14</td> \n",
       "        <td id=\"T_18d1b0c2_a464_11ed_abce_0242ac120002row5_col3\" class=\"data row5 col3\" >0.21</td> \n",
       "        <td id=\"T_18d1b0c2_a464_11ed_abce_0242ac120002row5_col4\" class=\"data row5 col4\" >-0.13</td> \n",
       "        <td id=\"T_18d1b0c2_a464_11ed_abce_0242ac120002row5_col5\" class=\"data row5 col5\" >1</td> \n",
       "        <td id=\"T_18d1b0c2_a464_11ed_abce_0242ac120002row5_col6\" class=\"data row5 col6\" >0.075</td> \n",
       "        <td id=\"T_18d1b0c2_a464_11ed_abce_0242ac120002row5_col7\" class=\"data row5 col7\" >-0.1</td> \n",
       "    </tr>    <tr> \n",
       "        <th id=\"T_18d1b0c2_a464_11ed_abce_0242ac120002level0_row6\" class=\"row_heading level0 row6\" >budget_adj</th> \n",
       "        <td id=\"T_18d1b0c2_a464_11ed_abce_0242ac120002row6_col0\" class=\"data row6 col0\" >0.4</td> \n",
       "        <td id=\"T_18d1b0c2_a464_11ed_abce_0242ac120002row6_col1\" class=\"data row6 col1\" >0.96</td> \n",
       "        <td id=\"T_18d1b0c2_a464_11ed_abce_0242ac120002row6_col2\" class=\"data row6 col2\" >0.66</td> \n",
       "        <td id=\"T_18d1b0c2_a464_11ed_abce_0242ac120002row6_col3\" class=\"data row6 col3\" >0.5</td> \n",
       "        <td id=\"T_18d1b0c2_a464_11ed_abce_0242ac120002row6_col4\" class=\"data row6 col4\" >0.037</td> \n",
       "        <td id=\"T_18d1b0c2_a464_11ed_abce_0242ac120002row6_col5\" class=\"data row6 col5\" >0.075</td> \n",
       "        <td id=\"T_18d1b0c2_a464_11ed_abce_0242ac120002row6_col6\" class=\"data row6 col6\" >1</td> \n",
       "        <td id=\"T_18d1b0c2_a464_11ed_abce_0242ac120002row6_col7\" class=\"data row6 col7\" >0.57</td> \n",
       "    </tr>    <tr> \n",
       "        <th id=\"T_18d1b0c2_a464_11ed_abce_0242ac120002level0_row7\" class=\"row_heading level0 row7\" >revenue_adj</th> \n",
       "        <td id=\"T_18d1b0c2_a464_11ed_abce_0242ac120002row7_col0\" class=\"data row7 col0\" >0.55</td> \n",
       "        <td id=\"T_18d1b0c2_a464_11ed_abce_0242ac120002row7_col1\" class=\"data row7 col1\" >0.53</td> \n",
       "        <td id=\"T_18d1b0c2_a464_11ed_abce_0242ac120002row7_col2\" class=\"data row7 col2\" >0.9</td> \n",
       "        <td id=\"T_18d1b0c2_a464_11ed_abce_0242ac120002row7_col3\" class=\"data row7 col3\" >0.65</td> \n",
       "        <td id=\"T_18d1b0c2_a464_11ed_abce_0242ac120002row7_col4\" class=\"data row7 col4\" >0.27</td> \n",
       "        <td id=\"T_18d1b0c2_a464_11ed_abce_0242ac120002row7_col5\" class=\"data row7 col5\" >-0.1</td> \n",
       "        <td id=\"T_18d1b0c2_a464_11ed_abce_0242ac120002row7_col6\" class=\"data row7 col6\" >0.57</td> \n",
       "        <td id=\"T_18d1b0c2_a464_11ed_abce_0242ac120002row7_col7\" class=\"data row7 col7\" >1</td> \n",
       "    </tr></tbody> \n",
       "</table> "
      ],
      "text/plain": [
       "<pandas.io.formats.style.Styler at 0x7f5af3980588>"
      ]
     },
     "execution_count": 54,
     "metadata": {},
     "output_type": "execute_result"
    }
   ],
   "source": [
    "corr = tmdb.corr()\n",
    "corr.style.background_gradient(cmap='coolwarm').set_precision(2)\n"
   ]
  },
  {
   "cell_type": "markdown",
   "metadata": {},
   "source": [
    "* there is a good +ve correlation between votes count and movie's popularity and revenue\n",
    "* There is a medium +ve correlation between budjet and revenue.\n",
    "* There is a small +ve correlation between vote average and movie's popularity and revenue."
   ]
  },
  {
   "cell_type": "markdown",
   "metadata": {},
   "source": [
    "<a id='conclusions'></a>\n",
    "## Conclusions\n",
    "\n",
    "* Drama is the most populare genre during the period under analysis. Production companies prouduced 1410 drama movies and drama productions volume occupied the 1st place in 38 years, also Drama genre occupied the 1st place in terms of Popularity in 25 years.\n",
    "\n",
    "* The top grossing and popular genres are Drama, Action, Comedy, Adventure, Science Fiction, Thriller, Horror, and Mystery.\n",
    "* Most of movies with high revenues hires one of the top grossing directors, e.g., Steven Spielberg, James Cameron, Wolfgang Reitherman, etc.\n",
    "* Mega studios such as Warner Bros,\tParamount Pictures,\tUniversal Pictures,\tTwentieth Century Fox Film Corporation,\tMetro-Goldwyn-Mayer (MGM), Walt Disney Pictures are the key producers of movies with high revenues.\n",
    "* Most of movies with high revenues are released in sumer vacation and christmas holidays, especially months of June and December.\n",
    "* Vote average is not an indicator of movie's revenue and popularity, but votes count is.\n",
    "* High budjet is not always a feature of movies with high revenue.\n",
    "* Unfortunately, The analysis couldn't answer the easiest question about the significance of cast in movies revenue due to having Zero values in 6016 elements in revenue_adj column? so. the dataset need to be completed with the real revenue data from themoviedb.org (TMDB) in order to answer this question, however, the analysis shows that a movie starring Harrison Ford, Sean Connery, or Tom Cruise is a movie with high chances to be top grossing.\n"
   ]
  },
  {
   "cell_type": "code",
   "execution_count": 55,
   "metadata": {},
   "outputs": [
    {
     "data": {
      "text/plain": [
       "0"
      ]
     },
     "execution_count": 55,
     "metadata": {},
     "output_type": "execute_result"
    }
   ],
   "source": [
    "from subprocess import call\n",
    "call(['python', '-m', 'nbconvert', 'Investigate_a_Dataset.ipynb'])"
   ]
  }
 ],
 "metadata": {
  "kernelspec": {
   "display_name": "Python 3",
   "language": "python",
   "name": "python3"
  },
  "language_info": {
   "codemirror_mode": {
    "name": "ipython",
    "version": 3
   },
   "file_extension": ".py",
   "mimetype": "text/x-python",
   "name": "python",
   "nbconvert_exporter": "python",
   "pygments_lexer": "ipython3",
   "version": "3.6.3"
  }
 },
 "nbformat": 4,
 "nbformat_minor": 2
}
